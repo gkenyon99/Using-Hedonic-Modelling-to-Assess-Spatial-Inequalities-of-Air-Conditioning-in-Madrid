{
 "cells": [
  {
   "cell_type": "markdown",
   "id": "61bafa88-fc6a-4ba6-9f16-b1ab990d1ef6",
   "metadata": {},
   "source": [
    "## Data Preparation for Hedonic Regression Modelling "
   ]
  },
  {
   "cell_type": "markdown",
   "id": "6d1dafc1-c6ff-4451-b46b-4dd974b61cfc",
   "metadata": {},
   "source": [
    "The following analysis includes an examination of multi-colinearity between the variables for the study, which is an important step in the preparation of data for linear hedonic modelling. Multicollinearity can make it difficult to interpret regression coefficients, as it causes large standard errors, which can result in insignificant predictors even when they are important.\n",
    "It doesn't affect the predictive power of the model but complicates understanding the relationship between predictors and the response variable. Multicollinearity occurs when two or more predictor variables in a regression model are highly correlated, which can make it difficult to determine the individual contribution of each predictor to the dependent variable.\n",
    "\n",
    "We also transform variables so the scale of variables doesn't impact the coefficients."
   ]
  },
  {
   "cell_type": "code",
   "execution_count": 1,
   "id": "d799782e-4f43-4203-9fbc-872be72c01dc",
   "metadata": {},
   "outputs": [],
   "source": [
    "# Read in libraries \n",
    "import pandas as pd\n",
    "import matplotlib.pyplot as plt\n",
    "import seaborn as sns\n",
    "import numpy as np\n",
    "from statsmodels.stats.outliers_influence import variance_inflation_factor\n",
    "from sklearn.preprocessing import MinMaxScaler\n",
    "import geopandas as gpd"
   ]
  },
  {
   "cell_type": "code",
   "execution_count": 2,
   "id": "d330a3fb-cf2c-4cae-bc58-de049c88f61f",
   "metadata": {},
   "outputs": [],
   "source": [
    "# Read in the data \n",
    "df = pd.read_csv('cleaned_data_hp_aircon.csv')"
   ]
  },
  {
   "cell_type": "code",
   "execution_count": 3,
   "id": "b1d4489e-1da1-4a3e-a455-7588156709f9",
   "metadata": {},
   "outputs": [
    {
     "name": "stdout",
     "output_type": "stream",
     "text": [
      "<class 'pandas.core.frame.DataFrame'>\n",
      "RangeIndex: 578080 entries, 0 to 578079\n",
      "Data columns (total 60 columns):\n",
      " #   Column                         Non-Null Count   Dtype  \n",
      "---  ------                         --------------   -----  \n",
      " 0   Unnamed: 0_left                578080 non-null  int64  \n",
      " 1   ASSETID                        578080 non-null  object \n",
      " 2   PERIOD                         578080 non-null  int64  \n",
      " 3   PRICE                          578080 non-null  float64\n",
      " 4   UNITPRICE                      578080 non-null  float64\n",
      " 5   CONSTRUCTEDAREA                578080 non-null  int64  \n",
      " 6   ROOMNUMBER                     578080 non-null  int64  \n",
      " 7   BATHNUMBER                     578080 non-null  int64  \n",
      " 8   HASTERRACE                     578080 non-null  int64  \n",
      " 9   HASLIFT                        578080 non-null  int64  \n",
      " 10  HASAIRCONDITIONING             578080 non-null  int64  \n",
      " 11  AMENITYID                      578080 non-null  int64  \n",
      " 12  HASPARKINGSPACE                578080 non-null  int64  \n",
      " 13  ISPARKINGSPACEINCLUDEDINPRICE  578080 non-null  int64  \n",
      " 14  PARKINGSPACEPRICE              578080 non-null  int64  \n",
      " 15  HASNORTHORIENTATION            578080 non-null  int64  \n",
      " 16  HASSOUTHORIENTATION            578080 non-null  int64  \n",
      " 17  HASEASTORIENTATION             578080 non-null  int64  \n",
      " 18  HASWESTORIENTATION             578080 non-null  int64  \n",
      " 19  HASBOXROOM                     578080 non-null  int64  \n",
      " 20  HASWARDROBE                    578080 non-null  int64  \n",
      " 21  HASSWIMMINGPOOL                578080 non-null  int64  \n",
      " 22  HASDOORMAN                     578080 non-null  int64  \n",
      " 23  HASGARDEN                      578080 non-null  int64  \n",
      " 24  ISDUPLEX                       578080 non-null  int64  \n",
      " 25  ISSTUDIO                       578080 non-null  int64  \n",
      " 26  ISINTOPFLOOR                   578080 non-null  int64  \n",
      " 27  FLOORCLEAN                     578080 non-null  float64\n",
      " 28  BUILTTYPEID                    578080 non-null  float64\n",
      " 29  FLATLOCATIONID                 578080 non-null  float64\n",
      " 30  CADCONSTRUCTIONYEAR            578080 non-null  float64\n",
      " 31  CADMAXBUILDINGFLOOR            578080 non-null  int64  \n",
      " 32  CADDWELLINGCOUNT               578080 non-null  int64  \n",
      " 33  CADASTRALQUALITYID             578080 non-null  float64\n",
      " 34  LONGITUDE                      578080 non-null  float64\n",
      " 35  LATITUDE                       578080 non-null  float64\n",
      " 36  geometry                       578080 non-null  object \n",
      " 37  CODBAR                         578080 non-null  int64  \n",
      " 38  NOMBRE_x                       578080 non-null  object \n",
      " 39  income_2019                    578080 non-null  float64\n",
      " 40  %_spanish_2021                 578080 non-null  float64\n",
      " 41  pop_2021                       578080 non-null  float64\n",
      " 42  %_singlehouse_2021             578080 non-null  float64\n",
      " 43  avg_house_size_2021            578080 non-null  float64\n",
      " 44  %_u18_2021                     578080 non-null  float64\n",
      " 45  %_over65_2021                  578080 non-null  float64\n",
      " 46  Average_age_2021               578080 non-null  float64\n",
      " 47  area_x                         578080 non-null  float64\n",
      " 48  building_density               578080 non-null  float64\n",
      " 49  bench_density                  578080 non-null  float64\n",
      " 50  green_area_percent             578080 non-null  float64\n",
      " 51  tree_density                   578080 non-null  float64\n",
      " 52  code_dis                       578080 non-null  int64  \n",
      " 53  name_dis                       578080 non-null  object \n",
      " 54  index_right                    578080 non-null  int64  \n",
      " 55  Unnamed: 0_right               578080 non-null  int64  \n",
      " 56  2000_18                        578080 non-null  int64  \n",
      " 57  pop_den                        578080 non-null  float64\n",
      " 58  CoolingDemandCategory          578080 non-null  int64  \n",
      " 59  Log_UNITPRICE                  578080 non-null  float64\n",
      "dtypes: float64(24), int64(32), object(4)\n",
      "memory usage: 264.6+ MB\n"
     ]
    }
   ],
   "source": [
    "df.info()"
   ]
  },
  {
   "cell_type": "markdown",
   "id": "4fa90c17-9317-4173-b647-f658aa5bfa5a",
   "metadata": {},
   "source": [
    "### Calculate % of listings and neighbourhoods with Air Conditioning "
   ]
  },
  {
   "cell_type": "code",
   "execution_count": 107,
   "id": "a19c8fd1-97cd-4bac-95be-b50fd9cbe683",
   "metadata": {},
   "outputs": [
    {
     "name": "stdout",
     "output_type": "stream",
     "text": [
      "Overall percentage of listings with air conditioning: 36.54%\n"
     ]
    }
   ],
   "source": [
    "# Calculate the overall percentage of listings with air conditioning\n",
    "overall_aircon_percentage = df['HASAIRCONDITIONING'].mean() * 100\n",
    "\n",
    "# Print the result\n",
    "print(f\"Overall percentage of listings with air conditioning: {overall_aircon_percentage:.2f}%\")\n"
   ]
  },
  {
   "cell_type": "code",
   "execution_count": 95,
   "id": "07c10e7c-7d0f-4d72-a63b-dd7a567dd53f",
   "metadata": {},
   "outputs": [],
   "source": [
    "# Group by 'COD_BAR' and calculate the percentage of listings with air conditioning\n",
    "airconditioning_percentage = (\n",
    "    df.groupby('CODBAR')['HASAIRCONDITIONING']\n",
    "    .mean()  # This calculates the mean, which corresponds to the percentage for binary variables\n",
    "    .mul(100)  # Convert to percentage\n",
    "    .reset_index(name='%_With_AirConditioning')  # Reset index and name the column\n",
    ")\n"
   ]
  },
  {
   "cell_type": "code",
   "execution_count": 85,
   "id": "0b72b26f-0123-480f-896c-e82e140c0e1f",
   "metadata": {},
   "outputs": [
    {
     "name": "stderr",
     "output_type": "stream",
     "text": [
      "ERROR 1: PROJ: proj_create_from_database: Open of /opt/conda/envs/gds/share/proj failed\n"
     ]
    }
   ],
   "source": [
    "# Read in neighbourhood shapefile\n",
    "barrios = gpd.read_file('barrios.shp')"
   ]
  },
  {
   "cell_type": "code",
   "execution_count": 89,
   "id": "2486d173-5ba0-4bc4-be5d-1cf09b7573f2",
   "metadata": {},
   "outputs": [],
   "source": [
    "# Rename columns to match\n",
    "barrios = barrios.rename(columns={'COD_BAR': 'CODBAR'})"
   ]
  },
  {
   "cell_type": "code",
   "execution_count": 100,
   "id": "1d526b44-b45e-44b1-8c0f-f081fdef279e",
   "metadata": {},
   "outputs": [],
   "source": [
    "# Change column type to match\n",
    "barrios['CODBAR'] = barrios['CODBAR'].astype(int)"
   ]
  },
  {
   "cell_type": "code",
   "execution_count": 101,
   "id": "b37b8cd4-4868-4055-8de9-15d3188677db",
   "metadata": {},
   "outputs": [],
   "source": [
    "# Merge the dfs\n",
    "merged_df = pd.merge(airconditioning_percentage, barrios, on='CODBAR', how='outer')"
   ]
  },
  {
   "cell_type": "code",
   "execution_count": 106,
   "id": "189df538-3c93-4dd3-924f-1c40289529d9",
   "metadata": {},
   "outputs": [
    {
     "name": "stderr",
     "output_type": "stream",
     "text": [
      "/tmp/ipykernel_6195/3868839955.py:8: UserWarning: Column names longer than 10 characters will be truncated when saved to ESRI Shapefile.\n",
      "  gdf.to_file(\"neighbourhood_aircon.shp\")\n"
     ]
    }
   ],
   "source": [
    "# Create a GeoDataFrame\n",
    "gdf = gpd.GeoDataFrame(merged_df, geometry=merged_df['geometry'])\n",
    "\n",
    "# Set the coordinate reference system (CRS) - you can set this to a specific CRS, e.g., 'EPSG:4326' for WGS84\n",
    "gdf.set_crs(epsg=25830, inplace=True)  # You can replace 4326 with another CRS if necessary\n",
    "\n",
    "# Save the GeoDataFrame as a shapefile\n",
    "gdf.to_file(\"neighbourhood_aircon.shp\")"
   ]
  },
  {
   "cell_type": "markdown",
   "id": "3dced21b-7bc1-48ca-840b-cf708a73d053",
   "metadata": {},
   "source": [
    "## Calculate Correlation Coefficients Between Predictors"
   ]
  },
  {
   "cell_type": "markdown",
   "id": "bc64b3c2-1e01-4cd1-a140-e3de0bedc2ea",
   "metadata": {},
   "source": [
    "* 1: A perfect positive correlation. As one variable increases, the other also increases in a proportional manner.\n",
    "* 0: No correlation. Changes in one variable do not predict changes in the other.\n",
    "* -1: A perfect negative correlation. As one variable increases, the other decreases proportionally."
   ]
  },
  {
   "cell_type": "code",
   "execution_count": 198,
   "id": "c6b55754-c466-48c1-b2c7-720796b956ea",
   "metadata": {},
   "outputs": [
    {
     "name": "stdout",
     "output_type": "stream",
     "text": [
      "<class 'pandas.core.frame.DataFrame'>\n",
      "RangeIndex: 578080 entries, 0 to 578079\n",
      "Data columns (total 60 columns):\n",
      " #   Column                         Non-Null Count   Dtype  \n",
      "---  ------                         --------------   -----  \n",
      " 0   Unnamed: 0_left                578080 non-null  int64  \n",
      " 1   ASSETID                        578080 non-null  object \n",
      " 2   PERIOD                         578080 non-null  int64  \n",
      " 3   PRICE                          578080 non-null  float64\n",
      " 4   UNITPRICE                      578080 non-null  float64\n",
      " 5   CONSTRUCTEDAREA                578080 non-null  int64  \n",
      " 6   ROOMNUMBER                     578080 non-null  int64  \n",
      " 7   BATHNUMBER                     578080 non-null  int64  \n",
      " 8   HASTERRACE                     578080 non-null  int64  \n",
      " 9   HASLIFT                        578080 non-null  int64  \n",
      " 10  HASAIRCONDITIONING             578080 non-null  int64  \n",
      " 11  AMENITYID                      578080 non-null  int64  \n",
      " 12  HASPARKINGSPACE                578080 non-null  int64  \n",
      " 13  ISPARKINGSPACEINCLUDEDINPRICE  578080 non-null  int64  \n",
      " 14  PARKINGSPACEPRICE              578080 non-null  int64  \n",
      " 15  HASNORTHORIENTATION            578080 non-null  int64  \n",
      " 16  HASSOUTHORIENTATION            578080 non-null  int64  \n",
      " 17  HASEASTORIENTATION             578080 non-null  int64  \n",
      " 18  HASWESTORIENTATION             578080 non-null  int64  \n",
      " 19  HASBOXROOM                     578080 non-null  int64  \n",
      " 20  HASWARDROBE                    578080 non-null  int64  \n",
      " 21  HASSWIMMINGPOOL                578080 non-null  int64  \n",
      " 22  HASDOORMAN                     578080 non-null  int64  \n",
      " 23  HASGARDEN                      578080 non-null  int64  \n",
      " 24  ISDUPLEX                       578080 non-null  int64  \n",
      " 25  ISSTUDIO                       578080 non-null  int64  \n",
      " 26  ISINTOPFLOOR                   578080 non-null  int64  \n",
      " 27  FLOORCLEAN                     578080 non-null  float64\n",
      " 28  BUILTTYPEID                    578080 non-null  float64\n",
      " 29  FLATLOCATIONID                 578080 non-null  float64\n",
      " 30  CADCONSTRUCTIONYEAR            578080 non-null  float64\n",
      " 31  CADMAXBUILDINGFLOOR            578080 non-null  int64  \n",
      " 32  CADDWELLINGCOUNT               578080 non-null  int64  \n",
      " 33  CADASTRALQUALITYID             578080 non-null  float64\n",
      " 34  LONGITUDE                      578080 non-null  float64\n",
      " 35  LATITUDE                       578080 non-null  float64\n",
      " 36  geometry                       578080 non-null  object \n",
      " 37  CODBAR                         578080 non-null  int64  \n",
      " 38  NOMBRE_x                       578080 non-null  object \n",
      " 39  income_2019                    578080 non-null  float64\n",
      " 40  %_spanish_2021                 578080 non-null  float64\n",
      " 41  pop_2021                       578080 non-null  float64\n",
      " 42  %_singlehouse_2021             578080 non-null  float64\n",
      " 43  avg_house_size_2021            578080 non-null  float64\n",
      " 44  %_u18_2021                     578080 non-null  float64\n",
      " 45  %_over65_2021                  578080 non-null  float64\n",
      " 46  Average_age_2021               578080 non-null  float64\n",
      " 47  area_x                         578080 non-null  float64\n",
      " 48  building_density               578080 non-null  float64\n",
      " 49  bench_density                  578080 non-null  float64\n",
      " 50  green_area_percent             578080 non-null  float64\n",
      " 51  tree_density                   578080 non-null  float64\n",
      " 52  code_dis                       578080 non-null  int64  \n",
      " 53  name_dis                       578080 non-null  object \n",
      " 54  index_right                    578080 non-null  int64  \n",
      " 55  Unnamed: 0_right               578080 non-null  int64  \n",
      " 56  2000_18                        578080 non-null  int64  \n",
      " 57  pop_den                        578080 non-null  float64\n",
      " 58  CoolingDemandCategory          578080 non-null  int64  \n",
      " 59  Log_UNITPRICE                  578080 non-null  float64\n",
      "dtypes: float64(24), int64(32), object(4)\n",
      "memory usage: 264.6+ MB\n"
     ]
    }
   ],
   "source": [
    "df.info()"
   ]
  },
  {
   "cell_type": "code",
   "execution_count": 201,
   "id": "d42b6f30-ce54-49f3-ae8b-3898c024134e",
   "metadata": {},
   "outputs": [],
   "source": [
    "# List of columns to drop that you dont want to calculate correlation matrix for\n",
    "columns_to_drop = ['UNITPRICE', 'Log_UNITPRICE', 'code_dis', 'CODBAR', 'geometry', 'ASSETID','PRICE','LONGITUDE', 'LATITUDE',\n",
    "    'NOMBRE_x','area_x','index_right','name_dis', 'pop_2021', 'Unnamed: 0_right', 'Unnamed: 0_left']\n",
    "\n",
    "# Drop the columns from the DataFrame\n",
    "df2 = df.drop(columns=columns_to_drop, axis=1)"
   ]
  },
  {
   "cell_type": "code",
   "execution_count": 202,
   "id": "7e07faa3-dccb-48a5-9f14-016c436a44bb",
   "metadata": {},
   "outputs": [],
   "source": [
    "# Calculate correlation matrix\n",
    "correlation_matrix = df2.corr()"
   ]
  },
  {
   "cell_type": "code",
   "execution_count": 203,
   "id": "925f0d77-8a8f-446c-a54c-153edfa8267c",
   "metadata": {},
   "outputs": [
    {
     "name": "stdout",
     "output_type": "stream",
     "text": [
      "HASPARKINGSPACE      ISPARKINGSPACEINCLUDEDINPRICE    1.000000\n",
      "%_over65_2021        Average_age_2021                 0.951662\n",
      "%_singlehouse_2021   avg_house_size_2021              0.934985\n",
      "avg_house_size_2021  %_u18_2021                       0.812827\n",
      "%_singlehouse_2021   %_u18_2021                       0.756553\n",
      "%_u18_2021           Average_age_2021                 0.744344\n",
      "building_density     pop_den                          0.694653\n",
      "PERIOD               AMENITYID                        0.682168\n",
      "%_singlehouse_2021   pop_den                          0.679537\n",
      "HASSWIMMINGPOOL      HASGARDEN                        0.665221\n",
      "avg_house_size_2021  pop_den                          0.655577\n",
      "%_spanish_2021       building_density                 0.647613\n",
      "%_singlehouse_2021   building_density                 0.636455\n",
      "%_u18_2021           pop_den                          0.627579\n",
      "income_2019          green_area_percent               0.604529\n",
      "dtype: float64\n"
     ]
    }
   ],
   "source": [
    "# Flatten and sort the correlation matrix\n",
    "def get_highest_correlations(corr_matrix, n=5):\n",
    "    # Reset the upper triangle values (mask them)\n",
    "    \n",
    "    mask = np.triu(np.ones_like(corr_matrix, dtype=bool))\n",
    "    corr_matrix = corr_matrix.mask(mask)\n",
    "    \n",
    "    # Unstack the matrix into a Series and drop NaNs\n",
    "    sorted_correlations = corr_matrix.unstack().dropna()\n",
    "      \n",
    "    # Sort absolute correlations in descending order\n",
    "    sorted_correlations = sorted_correlations.abs().sort_values(ascending=False)\n",
    "    \n",
    "    # Return the top N correlations\n",
    "    return sorted_correlations.head(n)\n",
    "\n",
    "# Example: Get the top 10 highest correlations\n",
    "top_correlations = get_highest_correlations(correlation_matrix, n=15)\n",
    "\n",
    "print(top_correlations)\n"
   ]
  },
  {
   "cell_type": "markdown",
   "id": "8af1ded1-ea21-4264-8650-752b152ef230",
   "metadata": {},
   "source": [
    "## Variables to drop based on Correlation Coefficient \n",
    "* IS PARKING SPACE INCLUDED IN PRICE\n",
    "* Average house size\n",
    "* Percentage single house\n",
    "* Population Density\n",
    "* Percentage Spanish\n",
    "* Average age 2021\n",
    "  \n",
    "These variables are removed from the final variable list as they have the highest correlation coefficients. None of the continous variables now have correlation coefficients over 0.61."
   ]
  },
  {
   "cell_type": "code",
   "execution_count": 204,
   "id": "aea054a2-2f1e-4a2e-8495-8eda49895721",
   "metadata": {},
   "outputs": [],
   "source": [
    "# List of columns to drop\n",
    "columns_to_drop = ['ISPARKINGSPACEINCLUDEDINPRICE', 'avg_house_size_2021', '%_singlehouse_2021', 'Average_age_2021',\n",
    "                   'pop_den', '%_spanish_2021']\n",
    "\n",
    "\n",
    "# Drop the columns from the DataFrame\n",
    "df_new = df.drop(columns=columns_to_drop, axis=1)"
   ]
  },
  {
   "cell_type": "code",
   "execution_count": 205,
   "id": "f2e941e6-a141-4115-a989-12096c98c3a8",
   "metadata": {},
   "outputs": [],
   "source": [
    "# Drop the columns from the DataFrame\n",
    "df2 = df2.drop(columns=columns_to_drop, axis=1)"
   ]
  },
  {
   "cell_type": "markdown",
   "id": "70cde3ff-c1c9-4526-9368-d2ce47a4624e",
   "metadata": {},
   "source": [
    "### Calculate the VIF"
   ]
  },
  {
   "cell_type": "markdown",
   "id": "289b5f42-24d5-490a-be9e-bc4480c06e52",
   "metadata": {},
   "source": [
    "Variance Inflation Factor (VIF) is a measure used to detect multicollinearity in regression analysis. VIF quantifies how much the variance of a regression coefficient is inflated due to collinearity with other predictors. \n",
    "\n",
    "* VIF = 1: No correlation between the predictor and other predictors (ideal).\n",
    "* 1 < VIF ≤ 5: Moderate correlation, not typically problematic.\n",
    "* VIF > 5: Possible multicollinearity concern; further investigation needed.\n",
    "* VIF > 15: High multicollinearity; problematic and requires action (e.g., removing or combining variables)\n"
   ]
  },
  {
   "cell_type": "code",
   "execution_count": 206,
   "id": "389dba67-44c0-4bd1-b427-f9cc83094a39",
   "metadata": {},
   "outputs": [],
   "source": [
    "\n",
    "# Calculate VIF for each predictor\n",
    "vif = pd.DataFrame()\n",
    "vif['Variable'] = df2.columns\n",
    "vif['VIF'] = [variance_inflation_factor(df2.values, i) for i in range(df2.shape[1])]\n"
   ]
  },
  {
   "cell_type": "code",
   "execution_count": 207,
   "id": "e8c652bb-14de-4a9f-89d6-ce27c968e9e4",
   "metadata": {},
   "outputs": [
    {
     "name": "stdout",
     "output_type": "stream",
     "text": [
      "                 Variable          VIF\n",
      "25    CADCONSTRUCTIONYEAR  9619.991846\n",
      "0                  PERIOD  9507.681630\n",
      "30             %_u18_2021    53.539666\n",
      "31          %_over65_2021    43.547082\n",
      "23            BUILTTYPEID    38.230378\n",
      "29            income_2019    35.859231\n",
      "28     CADASTRALQUALITYID    24.068505\n",
      "35           tree_density    21.152858\n",
      "34     green_area_percent    16.166416\n",
      "24         FLATLOCATIONID    16.119134\n",
      "37  CoolingDemandCategory    14.413909\n",
      "2              ROOMNUMBER    12.639129\n",
      "7               AMENITYID    12.059282\n",
      "3              BATHNUMBER    10.949534\n"
     ]
    }
   ],
   "source": [
    "# Filter and print variables with VIF greater than 10\n",
    "vif_high = vif[vif['VIF'] > 10]\n",
    "\n",
    "# Sort by VIF value in descending order\n",
    "vif_high_sorted = vif_high.sort_values(by='VIF', ascending=False)\n",
    "\n",
    "# Print the sorted dataframe\n",
    "print(vif_high_sorted)"
   ]
  },
  {
   "cell_type": "markdown",
   "id": "b23e1300-9120-4fc6-8069-c8f54ca78a4c",
   "metadata": {},
   "source": [
    "Based on the high VIF values, we remove:\n",
    "* CADCONSTRUCTIONYEAR\n",
    "* PERIOD\n",
    "* Tree Density\n",
    "* Percentage_u18_2021\n",
    "* BUILTTYPEID\n",
    "* CADASTRALQUALITYID\n",
    "* FLATLOCATIONID\n",
    "* AMENITYID\n",
    "* BATHNUMBER\n",
    "* Percentage over 65\n"
   ]
  },
  {
   "cell_type": "code",
   "execution_count": 208,
   "id": "c90db793-492b-4874-bca5-cd2528005cb0",
   "metadata": {},
   "outputs": [],
   "source": [
    "# List of columns to drop\n",
    "columns_to_drop2 = ['CADCONSTRUCTIONYEAR', 'PERIOD', 'tree_density',\n",
    "    '%_u18_2021', 'BUILTTYPEID', 'CADASTRALQUALITYID', \n",
    "    'FLATLOCATIONID', 'AMENITYID', 'BATHNUMBER', '%_over65_2021'\n",
    "]\n",
    "\n",
    "# Drop the columns from the DataFrame\n",
    "df_new = df_new.drop(columns=columns_to_drop2, axis=1)\n"
   ]
  },
  {
   "cell_type": "code",
   "execution_count": 209,
   "id": "c36f4b97-7d01-4019-a482-d4d70ad30196",
   "metadata": {},
   "outputs": [],
   "source": [
    "# Drop the columns from the DataFrame\n",
    "df3 = df2.drop(columns=columns_to_drop2, axis=1)"
   ]
  },
  {
   "cell_type": "code",
   "execution_count": 117,
   "id": "3ffbb98b-91b2-4d80-8010-84f52c7ab163",
   "metadata": {},
   "outputs": [],
   "source": [
    "# Calculate VIF for each predictor\n",
    "vif = pd.DataFrame()\n",
    "vif['Variable'] = df3.columns\n",
    "vif['VIF'] = [variance_inflation_factor(df3.values, i) for i in range(df3.shape[1])]"
   ]
  },
  {
   "cell_type": "code",
   "execution_count": 118,
   "id": "4157a6a1-2349-4d78-b0a5-cad65d47fb17",
   "metadata": {},
   "outputs": [
    {
     "name": "stdout",
     "output_type": "stream",
     "text": [
      "                 Variable        VIF\n",
      "22            income_2019  12.075446\n",
      "27  CoolingDemandCategory  10.293541\n"
     ]
    }
   ],
   "source": [
    "# Filter and print variables with VIF greater than 10\n",
    "vif_high = vif[vif['VIF'] > 10]\n",
    "\n",
    "# Sort by VIF value in descending order\n",
    "vif_high_sorted = vif_high.sort_values(by='VIF', ascending=False)\n",
    "\n",
    "# Print the sorted dataframe\n",
    "print(vif_high_sorted)"
   ]
  },
  {
   "cell_type": "markdown",
   "id": "f90ae67c-01cd-4817-b53f-90dfa8ed24d6",
   "metadata": {},
   "source": [
    "### Final Dataframe "
   ]
  },
  {
   "cell_type": "code",
   "execution_count": 58,
   "id": "33f9aa24-a7b2-4699-83cf-29b2b0f8307c",
   "metadata": {},
   "outputs": [],
   "source": [
    "# Adjust the display settings\n",
    "pd.set_option('display.max_columns', None)  # Show all columns\n",
    "pd.set_option('display.width', None)        # Adjust the width to show all column"
   ]
  },
  {
   "cell_type": "code",
   "execution_count": 130,
   "id": "935c0c3b-35e2-4dea-b4dd-d9d48463462e",
   "metadata": {
    "scrolled": true
   },
   "outputs": [
    {
     "data": {
      "text/html": [
       "<div>\n",
       "<style scoped>\n",
       "    .dataframe tbody tr th:only-of-type {\n",
       "        vertical-align: middle;\n",
       "    }\n",
       "\n",
       "    .dataframe tbody tr th {\n",
       "        vertical-align: top;\n",
       "    }\n",
       "\n",
       "    .dataframe thead th {\n",
       "        text-align: right;\n",
       "    }\n",
       "</style>\n",
       "<table border=\"1\" class=\"dataframe\">\n",
       "  <thead>\n",
       "    <tr style=\"text-align: right;\">\n",
       "      <th></th>\n",
       "      <th>count</th>\n",
       "      <th>mean</th>\n",
       "      <th>std</th>\n",
       "      <th>min</th>\n",
       "      <th>25%</th>\n",
       "      <th>50%</th>\n",
       "      <th>75%</th>\n",
       "      <th>max</th>\n",
       "    </tr>\n",
       "  </thead>\n",
       "  <tbody>\n",
       "    <tr>\n",
       "      <th>CONSTRUCTEDAREA</th>\n",
       "      <td>578090.0</td>\n",
       "      <td>106.113287</td>\n",
       "      <td>887.906970</td>\n",
       "      <td>1.000000</td>\n",
       "      <td>64.000000</td>\n",
       "      <td>84.000000</td>\n",
       "      <td>117.000000</td>\n",
       "      <td>3.990000e+05</td>\n",
       "    </tr>\n",
       "    <tr>\n",
       "      <th>ROOMNUMBER</th>\n",
       "      <td>578090.0</td>\n",
       "      <td>2.650136</td>\n",
       "      <td>1.170535</td>\n",
       "      <td>0.000000</td>\n",
       "      <td>2.000000</td>\n",
       "      <td>3.000000</td>\n",
       "      <td>3.000000</td>\n",
       "      <td>1.500000e+01</td>\n",
       "    </tr>\n",
       "    <tr>\n",
       "      <th>HASTERRACE</th>\n",
       "      <td>578090.0</td>\n",
       "      <td>0.323870</td>\n",
       "      <td>0.467951</td>\n",
       "      <td>0.000000</td>\n",
       "      <td>0.000000</td>\n",
       "      <td>0.000000</td>\n",
       "      <td>1.000000</td>\n",
       "      <td>1.000000e+00</td>\n",
       "    </tr>\n",
       "    <tr>\n",
       "      <th>HASLIFT</th>\n",
       "      <td>578090.0</td>\n",
       "      <td>0.695544</td>\n",
       "      <td>0.460177</td>\n",
       "      <td>0.000000</td>\n",
       "      <td>0.000000</td>\n",
       "      <td>1.000000</td>\n",
       "      <td>1.000000</td>\n",
       "      <td>1.000000e+00</td>\n",
       "    </tr>\n",
       "    <tr>\n",
       "      <th>HASAIRCONDITIONING</th>\n",
       "      <td>578090.0</td>\n",
       "      <td>0.365365</td>\n",
       "      <td>0.481533</td>\n",
       "      <td>0.000000</td>\n",
       "      <td>0.000000</td>\n",
       "      <td>0.000000</td>\n",
       "      <td>1.000000</td>\n",
       "      <td>1.000000e+00</td>\n",
       "    </tr>\n",
       "    <tr>\n",
       "      <th>HASPARKINGSPACE</th>\n",
       "      <td>578090.0</td>\n",
       "      <td>0.225314</td>\n",
       "      <td>0.417790</td>\n",
       "      <td>0.000000</td>\n",
       "      <td>0.000000</td>\n",
       "      <td>0.000000</td>\n",
       "      <td>0.000000</td>\n",
       "      <td>1.000000e+00</td>\n",
       "    </tr>\n",
       "    <tr>\n",
       "      <th>PARKINGSPACEPRICE</th>\n",
       "      <td>578090.0</td>\n",
       "      <td>411.222313</td>\n",
       "      <td>5609.620774</td>\n",
       "      <td>1.000000</td>\n",
       "      <td>1.000000</td>\n",
       "      <td>1.000000</td>\n",
       "      <td>1.000000</td>\n",
       "      <td>1.200001e+06</td>\n",
       "    </tr>\n",
       "    <tr>\n",
       "      <th>HASNORTHORIENTATION</th>\n",
       "      <td>578090.0</td>\n",
       "      <td>0.085975</td>\n",
       "      <td>0.280327</td>\n",
       "      <td>0.000000</td>\n",
       "      <td>0.000000</td>\n",
       "      <td>0.000000</td>\n",
       "      <td>0.000000</td>\n",
       "      <td>1.000000e+00</td>\n",
       "    </tr>\n",
       "    <tr>\n",
       "      <th>HASSOUTHORIENTATION</th>\n",
       "      <td>578090.0</td>\n",
       "      <td>0.201647</td>\n",
       "      <td>0.401230</td>\n",
       "      <td>0.000000</td>\n",
       "      <td>0.000000</td>\n",
       "      <td>0.000000</td>\n",
       "      <td>0.000000</td>\n",
       "      <td>1.000000e+00</td>\n",
       "    </tr>\n",
       "    <tr>\n",
       "      <th>HASEASTORIENTATION</th>\n",
       "      <td>578090.0</td>\n",
       "      <td>0.171378</td>\n",
       "      <td>0.376839</td>\n",
       "      <td>0.000000</td>\n",
       "      <td>0.000000</td>\n",
       "      <td>0.000000</td>\n",
       "      <td>0.000000</td>\n",
       "      <td>1.000000e+00</td>\n",
       "    </tr>\n",
       "    <tr>\n",
       "      <th>HASWESTORIENTATION</th>\n",
       "      <td>578090.0</td>\n",
       "      <td>0.114256</td>\n",
       "      <td>0.318122</td>\n",
       "      <td>0.000000</td>\n",
       "      <td>0.000000</td>\n",
       "      <td>0.000000</td>\n",
       "      <td>0.000000</td>\n",
       "      <td>1.000000e+00</td>\n",
       "    </tr>\n",
       "    <tr>\n",
       "      <th>HASBOXROOM</th>\n",
       "      <td>578090.0</td>\n",
       "      <td>0.259614</td>\n",
       "      <td>0.438423</td>\n",
       "      <td>0.000000</td>\n",
       "      <td>0.000000</td>\n",
       "      <td>0.000000</td>\n",
       "      <td>1.000000</td>\n",
       "      <td>1.000000e+00</td>\n",
       "    </tr>\n",
       "    <tr>\n",
       "      <th>HASWARDROBE</th>\n",
       "      <td>578090.0</td>\n",
       "      <td>0.497922</td>\n",
       "      <td>0.499996</td>\n",
       "      <td>0.000000</td>\n",
       "      <td>0.000000</td>\n",
       "      <td>0.000000</td>\n",
       "      <td>1.000000</td>\n",
       "      <td>1.000000e+00</td>\n",
       "    </tr>\n",
       "    <tr>\n",
       "      <th>HASSWIMMINGPOOL</th>\n",
       "      <td>578090.0</td>\n",
       "      <td>0.157024</td>\n",
       "      <td>0.363824</td>\n",
       "      <td>0.000000</td>\n",
       "      <td>0.000000</td>\n",
       "      <td>0.000000</td>\n",
       "      <td>0.000000</td>\n",
       "      <td>1.000000e+00</td>\n",
       "    </tr>\n",
       "    <tr>\n",
       "      <th>HASDOORMAN</th>\n",
       "      <td>578090.0</td>\n",
       "      <td>0.238878</td>\n",
       "      <td>0.426398</td>\n",
       "      <td>0.000000</td>\n",
       "      <td>0.000000</td>\n",
       "      <td>0.000000</td>\n",
       "      <td>0.000000</td>\n",
       "      <td>1.000000e+00</td>\n",
       "    </tr>\n",
       "    <tr>\n",
       "      <th>HASGARDEN</th>\n",
       "      <td>578090.0</td>\n",
       "      <td>0.193011</td>\n",
       "      <td>0.394662</td>\n",
       "      <td>0.000000</td>\n",
       "      <td>0.000000</td>\n",
       "      <td>0.000000</td>\n",
       "      <td>0.000000</td>\n",
       "      <td>1.000000e+00</td>\n",
       "    </tr>\n",
       "    <tr>\n",
       "      <th>ISDUPLEX</th>\n",
       "      <td>578090.0</td>\n",
       "      <td>0.022503</td>\n",
       "      <td>0.148314</td>\n",
       "      <td>0.000000</td>\n",
       "      <td>0.000000</td>\n",
       "      <td>0.000000</td>\n",
       "      <td>0.000000</td>\n",
       "      <td>1.000000e+00</td>\n",
       "    </tr>\n",
       "    <tr>\n",
       "      <th>ISSTUDIO</th>\n",
       "      <td>578090.0</td>\n",
       "      <td>0.021991</td>\n",
       "      <td>0.146655</td>\n",
       "      <td>0.000000</td>\n",
       "      <td>0.000000</td>\n",
       "      <td>0.000000</td>\n",
       "      <td>0.000000</td>\n",
       "      <td>1.000000e+00</td>\n",
       "    </tr>\n",
       "    <tr>\n",
       "      <th>ISINTOPFLOOR</th>\n",
       "      <td>578090.0</td>\n",
       "      <td>0.012671</td>\n",
       "      <td>0.111850</td>\n",
       "      <td>0.000000</td>\n",
       "      <td>0.000000</td>\n",
       "      <td>0.000000</td>\n",
       "      <td>0.000000</td>\n",
       "      <td>1.000000e+00</td>\n",
       "    </tr>\n",
       "    <tr>\n",
       "      <th>FLOORCLEAN</th>\n",
       "      <td>578090.0</td>\n",
       "      <td>2.695572</td>\n",
       "      <td>2.310025</td>\n",
       "      <td>-1.000000</td>\n",
       "      <td>1.000000</td>\n",
       "      <td>2.000000</td>\n",
       "      <td>4.000000</td>\n",
       "      <td>1.100000e+01</td>\n",
       "    </tr>\n",
       "    <tr>\n",
       "      <th>CADMAXBUILDINGFLOOR</th>\n",
       "      <td>578090.0</td>\n",
       "      <td>6.495511</td>\n",
       "      <td>2.881916</td>\n",
       "      <td>0.000000</td>\n",
       "      <td>5.000000</td>\n",
       "      <td>6.000000</td>\n",
       "      <td>8.000000</td>\n",
       "      <td>2.600000e+01</td>\n",
       "    </tr>\n",
       "    <tr>\n",
       "      <th>CADDWELLINGCOUNT</th>\n",
       "      <td>578090.0</td>\n",
       "      <td>41.559387</td>\n",
       "      <td>56.725123</td>\n",
       "      <td>1.000000</td>\n",
       "      <td>12.000000</td>\n",
       "      <td>22.000000</td>\n",
       "      <td>43.000000</td>\n",
       "      <td>1.499000e+03</td>\n",
       "    </tr>\n",
       "    <tr>\n",
       "      <th>income_2019</th>\n",
       "      <td>578090.0</td>\n",
       "      <td>17673.147391</td>\n",
       "      <td>5976.669010</td>\n",
       "      <td>6940.818182</td>\n",
       "      <td>12768.235294</td>\n",
       "      <td>16265.636364</td>\n",
       "      <td>22051.315789</td>\n",
       "      <td>3.218300e+04</td>\n",
       "    </tr>\n",
       "    <tr>\n",
       "      <th>building_density</th>\n",
       "      <td>578090.0</td>\n",
       "      <td>0.000794</td>\n",
       "      <td>0.000528</td>\n",
       "      <td>0.000002</td>\n",
       "      <td>0.000392</td>\n",
       "      <td>0.000753</td>\n",
       "      <td>0.000987</td>\n",
       "      <td>2.531196e-03</td>\n",
       "    </tr>\n",
       "    <tr>\n",
       "      <th>bench_density</th>\n",
       "      <td>578090.0</td>\n",
       "      <td>0.000348</td>\n",
       "      <td>0.000163</td>\n",
       "      <td>0.000002</td>\n",
       "      <td>0.000243</td>\n",
       "      <td>0.000346</td>\n",
       "      <td>0.000451</td>\n",
       "      <td>9.062961e-04</td>\n",
       "    </tr>\n",
       "    <tr>\n",
       "      <th>green_area_percent</th>\n",
       "      <td>578090.0</td>\n",
       "      <td>9.634385</td>\n",
       "      <td>5.317163</td>\n",
       "      <td>1.548261</td>\n",
       "      <td>6.020553</td>\n",
       "      <td>7.851998</td>\n",
       "      <td>11.851522</td>\n",
       "      <td>2.158030e+01</td>\n",
       "    </tr>\n",
       "    <tr>\n",
       "      <th>CoolingDemandCategory</th>\n",
       "      <td>578090.0</td>\n",
       "      <td>2.395857</td>\n",
       "      <td>0.786539</td>\n",
       "      <td>1.000000</td>\n",
       "      <td>2.000000</td>\n",
       "      <td>3.000000</td>\n",
       "      <td>3.000000</td>\n",
       "      <td>3.000000e+00</td>\n",
       "    </tr>\n",
       "  </tbody>\n",
       "</table>\n",
       "</div>"
      ],
      "text/plain": [
       "                          count          mean          std          min  \\\n",
       "CONSTRUCTEDAREA        578090.0    106.113287   887.906970     1.000000   \n",
       "ROOMNUMBER             578090.0      2.650136     1.170535     0.000000   \n",
       "HASTERRACE             578090.0      0.323870     0.467951     0.000000   \n",
       "HASLIFT                578090.0      0.695544     0.460177     0.000000   \n",
       "HASAIRCONDITIONING     578090.0      0.365365     0.481533     0.000000   \n",
       "HASPARKINGSPACE        578090.0      0.225314     0.417790     0.000000   \n",
       "PARKINGSPACEPRICE      578090.0    411.222313  5609.620774     1.000000   \n",
       "HASNORTHORIENTATION    578090.0      0.085975     0.280327     0.000000   \n",
       "HASSOUTHORIENTATION    578090.0      0.201647     0.401230     0.000000   \n",
       "HASEASTORIENTATION     578090.0      0.171378     0.376839     0.000000   \n",
       "HASWESTORIENTATION     578090.0      0.114256     0.318122     0.000000   \n",
       "HASBOXROOM             578090.0      0.259614     0.438423     0.000000   \n",
       "HASWARDROBE            578090.0      0.497922     0.499996     0.000000   \n",
       "HASSWIMMINGPOOL        578090.0      0.157024     0.363824     0.000000   \n",
       "HASDOORMAN             578090.0      0.238878     0.426398     0.000000   \n",
       "HASGARDEN              578090.0      0.193011     0.394662     0.000000   \n",
       "ISDUPLEX               578090.0      0.022503     0.148314     0.000000   \n",
       "ISSTUDIO               578090.0      0.021991     0.146655     0.000000   \n",
       "ISINTOPFLOOR           578090.0      0.012671     0.111850     0.000000   \n",
       "FLOORCLEAN             578090.0      2.695572     2.310025    -1.000000   \n",
       "CADMAXBUILDINGFLOOR    578090.0      6.495511     2.881916     0.000000   \n",
       "CADDWELLINGCOUNT       578090.0     41.559387    56.725123     1.000000   \n",
       "income_2019            578090.0  17673.147391  5976.669010  6940.818182   \n",
       "building_density       578090.0      0.000794     0.000528     0.000002   \n",
       "bench_density          578090.0      0.000348     0.000163     0.000002   \n",
       "green_area_percent     578090.0      9.634385     5.317163     1.548261   \n",
       "CoolingDemandCategory  578090.0      2.395857     0.786539     1.000000   \n",
       "\n",
       "                                25%           50%           75%           max  \n",
       "CONSTRUCTEDAREA           64.000000     84.000000    117.000000  3.990000e+05  \n",
       "ROOMNUMBER                 2.000000      3.000000      3.000000  1.500000e+01  \n",
       "HASTERRACE                 0.000000      0.000000      1.000000  1.000000e+00  \n",
       "HASLIFT                    0.000000      1.000000      1.000000  1.000000e+00  \n",
       "HASAIRCONDITIONING         0.000000      0.000000      1.000000  1.000000e+00  \n",
       "HASPARKINGSPACE            0.000000      0.000000      0.000000  1.000000e+00  \n",
       "PARKINGSPACEPRICE          1.000000      1.000000      1.000000  1.200001e+06  \n",
       "HASNORTHORIENTATION        0.000000      0.000000      0.000000  1.000000e+00  \n",
       "HASSOUTHORIENTATION        0.000000      0.000000      0.000000  1.000000e+00  \n",
       "HASEASTORIENTATION         0.000000      0.000000      0.000000  1.000000e+00  \n",
       "HASWESTORIENTATION         0.000000      0.000000      0.000000  1.000000e+00  \n",
       "HASBOXROOM                 0.000000      0.000000      1.000000  1.000000e+00  \n",
       "HASWARDROBE                0.000000      0.000000      1.000000  1.000000e+00  \n",
       "HASSWIMMINGPOOL            0.000000      0.000000      0.000000  1.000000e+00  \n",
       "HASDOORMAN                 0.000000      0.000000      0.000000  1.000000e+00  \n",
       "HASGARDEN                  0.000000      0.000000      0.000000  1.000000e+00  \n",
       "ISDUPLEX                   0.000000      0.000000      0.000000  1.000000e+00  \n",
       "ISSTUDIO                   0.000000      0.000000      0.000000  1.000000e+00  \n",
       "ISINTOPFLOOR               0.000000      0.000000      0.000000  1.000000e+00  \n",
       "FLOORCLEAN                 1.000000      2.000000      4.000000  1.100000e+01  \n",
       "CADMAXBUILDINGFLOOR        5.000000      6.000000      8.000000  2.600000e+01  \n",
       "CADDWELLINGCOUNT          12.000000     22.000000     43.000000  1.499000e+03  \n",
       "income_2019            12768.235294  16265.636364  22051.315789  3.218300e+04  \n",
       "building_density           0.000392      0.000753      0.000987  2.531196e-03  \n",
       "bench_density              0.000243      0.000346      0.000451  9.062961e-04  \n",
       "green_area_percent         6.020553      7.851998     11.851522  2.158030e+01  \n",
       "CoolingDemandCategory      2.000000      3.000000      3.000000  3.000000e+00  "
      ]
     },
     "execution_count": 130,
     "metadata": {},
     "output_type": "execute_result"
    }
   ],
   "source": [
    "## Make table of summary statistics in the raw form\n",
    "df3.describe().T"
   ]
  },
  {
   "cell_type": "code",
   "execution_count": 131,
   "id": "d9cb17e0-848a-4519-bf15-e2aa68e829c0",
   "metadata": {},
   "outputs": [
    {
     "data": {
      "text/plain": [
       "count    578090.000000\n",
       "mean       2990.539671\n",
       "std        1379.852830\n",
       "min           0.974937\n",
       "25%        1900.000000\n",
       "50%        2795.698962\n",
       "75%        3888.889000\n",
       "max        7090.909091\n",
       "Name: UNITPRICE, dtype: float64"
      ]
     },
     "execution_count": 131,
     "metadata": {},
     "output_type": "execute_result"
    }
   ],
   "source": [
    "## Make table of summary statistics in the raw form\n",
    "df.UNITPRICE.describe().T"
   ]
  },
  {
   "cell_type": "markdown",
   "id": "ac67d5da-e9e0-4b51-b69c-374d47befbae",
   "metadata": {},
   "source": [
    "## Normalising Variables"
   ]
  },
  {
   "cell_type": "code",
   "execution_count": 210,
   "id": "bedc494f-bd14-444d-b3a4-825554231d68",
   "metadata": {},
   "outputs": [],
   "source": [
    "scaler = MinMaxScaler()\n",
    "df_new[['CONSTRUCTEDAREA', 'green_area_percent','CoolingDemandCategory','ROOMNUMBER','building_density', 'bench_density', 'FLOORCLEAN', 'CADMAXBUILDINGFLOOR', 'CADDWELLINGCOUNT', 'PARKINGSPACEPRICE']] = scaler.fit_transform(\n",
    "    df_new[['CONSTRUCTEDAREA', 'green_area_percent','CoolingDemandCategory','ROOMNUMBER','building_density', 'bench_density', 'FLOORCLEAN', 'CADMAXBUILDINGFLOOR', 'CADDWELLINGCOUNT', 'PARKINGSPACEPRICE']]\n",
    ")"
   ]
  },
  {
   "cell_type": "code",
   "execution_count": 211,
   "id": "b298f19e-00c0-4a17-8153-10daf25997d4",
   "metadata": {},
   "outputs": [],
   "source": [
    "df_new['log_income'] = np.log(df_new['income_2019'])"
   ]
  },
  {
   "cell_type": "code",
   "execution_count": 213,
   "id": "49a84163-fc3d-43bb-ae50-3a345f0ab95e",
   "metadata": {},
   "outputs": [],
   "source": [
    "# List of columns to drop\n",
    "columns_to_drop3 = ['UNITPRICE','LONGITUDE','LATITUDE', 'PRICE', 'income_2019',\n",
    "    'NOMBRE_x','area_x','index_right','name_dis', 'pop_2021','Unnamed: 0_left', 'ASSETID', 'Unnamed: 0_right']"
   ]
  },
  {
   "cell_type": "code",
   "execution_count": 214,
   "id": "25a2af75-99fb-444d-b7d3-189d4171f703",
   "metadata": {},
   "outputs": [],
   "source": [
    "# Drop the columns from the DataFrame\n",
    "df_new2 = df_new.drop(columns=columns_to_drop3, axis=1)"
   ]
  },
  {
   "cell_type": "code",
   "execution_count": 215,
   "id": "eefbdcd7-c752-482d-ad22-ef6612b3e49f",
   "metadata": {
    "scrolled": true
   },
   "outputs": [
    {
     "name": "stdout",
     "output_type": "stream",
     "text": [
      "<class 'pandas.core.frame.DataFrame'>\n",
      "RangeIndex: 578080 entries, 0 to 578079\n",
      "Data columns (total 32 columns):\n",
      " #   Column                 Non-Null Count   Dtype  \n",
      "---  ------                 --------------   -----  \n",
      " 0   CONSTRUCTEDAREA        578080 non-null  float64\n",
      " 1   ROOMNUMBER             578080 non-null  float64\n",
      " 2   HASTERRACE             578080 non-null  int64  \n",
      " 3   HASLIFT                578080 non-null  int64  \n",
      " 4   HASAIRCONDITIONING     578080 non-null  int64  \n",
      " 5   HASPARKINGSPACE        578080 non-null  int64  \n",
      " 6   PARKINGSPACEPRICE      578080 non-null  float64\n",
      " 7   HASNORTHORIENTATION    578080 non-null  int64  \n",
      " 8   HASSOUTHORIENTATION    578080 non-null  int64  \n",
      " 9   HASEASTORIENTATION     578080 non-null  int64  \n",
      " 10  HASWESTORIENTATION     578080 non-null  int64  \n",
      " 11  HASBOXROOM             578080 non-null  int64  \n",
      " 12  HASWARDROBE            578080 non-null  int64  \n",
      " 13  HASSWIMMINGPOOL        578080 non-null  int64  \n",
      " 14  HASDOORMAN             578080 non-null  int64  \n",
      " 15  HASGARDEN              578080 non-null  int64  \n",
      " 16  ISDUPLEX               578080 non-null  int64  \n",
      " 17  ISSTUDIO               578080 non-null  int64  \n",
      " 18  ISINTOPFLOOR           578080 non-null  int64  \n",
      " 19  FLOORCLEAN             578080 non-null  float64\n",
      " 20  CADMAXBUILDINGFLOOR    578080 non-null  float64\n",
      " 21  CADDWELLINGCOUNT       578080 non-null  float64\n",
      " 22  geometry               578080 non-null  object \n",
      " 23  CODBAR                 578080 non-null  int64  \n",
      " 24  building_density       578080 non-null  float64\n",
      " 25  bench_density          578080 non-null  float64\n",
      " 26  green_area_percent     578080 non-null  float64\n",
      " 27  code_dis               578080 non-null  int64  \n",
      " 28  2000_18                578080 non-null  int64  \n",
      " 29  CoolingDemandCategory  578080 non-null  float64\n",
      " 30  Log_UNITPRICE          578080 non-null  float64\n",
      " 31  log_income             578080 non-null  float64\n",
      "dtypes: float64(12), int64(19), object(1)\n",
      "memory usage: 141.1+ MB\n"
     ]
    }
   ],
   "source": [
    "df_new2.info()"
   ]
  },
  {
   "cell_type": "code",
   "execution_count": 216,
   "id": "8c76d21e-fc35-4239-93b9-7b60aa76371d",
   "metadata": {},
   "outputs": [],
   "source": [
    "# Rename the column '2000_18' to 'sat_image_cluster'\n",
    "df_new2.rename(columns={'2000_18': 'sat_image_clus'}, inplace=True)\n"
   ]
  },
  {
   "cell_type": "code",
   "execution_count": 217,
   "id": "c7125c94-0284-41eb-888a-0c265250cdd8",
   "metadata": {},
   "outputs": [],
   "source": [
    "# Save df_new2 to a CSV file\n",
    "df_new2.to_csv('df_new2finalmodeldata.csv', index=False)"
   ]
  }
 ],
 "metadata": {
  "kernelspec": {
   "display_name": "GDS-10.0",
   "language": "python",
   "name": "gds"
  },
  "language_info": {
   "codemirror_mode": {
    "name": "ipython",
    "version": 3
   },
   "file_extension": ".py",
   "mimetype": "text/x-python",
   "name": "python",
   "nbconvert_exporter": "python",
   "pygments_lexer": "ipython3",
   "version": "3.9.18"
  }
 },
 "nbformat": 4,
 "nbformat_minor": 5
}
