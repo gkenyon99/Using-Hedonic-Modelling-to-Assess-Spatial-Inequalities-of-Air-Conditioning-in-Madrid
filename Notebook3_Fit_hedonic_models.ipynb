{
 "cells": [
  {
   "cell_type": "markdown",
   "id": "eb8825db-43b2-4c2c-89fd-b9e4e23ccada",
   "metadata": {},
   "source": [
    "## Fit Hedonic Regression Models "
   ]
  },
  {
   "cell_type": "markdown",
   "id": "9b7a47a4-cb54-4c7e-8ca6-3990387a4113",
   "metadata": {},
   "source": [
    "This notebook fits the hedonic regression models for the paper titled 'Using Hedonic Modelling to Assess Spatial Inequalities of Air Conditioning in Madrid'. "
   ]
  },
  {
   "cell_type": "code",
   "execution_count": 1,
   "id": "1c73ee25-5576-4366-8a38-e1bd657b92b8",
   "metadata": {},
   "outputs": [
    {
     "name": "stderr",
     "output_type": "stream",
     "text": [
      "/opt/conda/envs/gds/lib/python3.9/site-packages/spglm/utils.py:367: SyntaxWarning: \"is not\" with a literal. Did you mean \"!=\"?\n",
      "  if resetlist is not ():\n",
      "/opt/conda/envs/gds/lib/python3.9/site-packages/spvcm/utils.py:149: SyntaxWarning: \"is\" with a literal. Did you mean \"==\"?\n",
      "  if np.isinf(ldet) or sgn is 0:\n",
      "/opt/conda/envs/gds/lib/python3.9/site-packages/spvcm/abstracts.py:268: SyntaxWarning: \"is\" with a literal. Did you mean \"==\"?\n",
      "  if chains is () and kwargs != dict():\n",
      "/opt/conda/envs/gds/lib/python3.9/site-packages/spvcm/abstracts.py:270: SyntaxWarning: \"is not\" with a literal. Did you mean \"!=\"?\n",
      "  if chains is not ():\n",
      "/opt/conda/envs/gds/lib/python3.9/site-packages/spvcm/plotting.py:37: SyntaxWarning: \"is\" with a literal. Did you mean \"==\"?\n",
      "  if thin is None or thin is 0:\n"
     ]
    }
   ],
   "source": [
    "# Read in libraries \n",
    "import pandas as pd\n",
    "import geopandas as gpd\n",
    "from shapely import wkt\n",
    "import matplotlib.pyplot as plt\n",
    "import pysal\n",
    "import numpy as np\n",
    "import statsmodels.api as sm\n",
    "import scipy.stats as stats\n",
    "from pysal.model import spreg\n",
    "from shapely import Point\n",
    "import seaborn as sns\n",
    "from pysal.model import spreg\n",
    "import statsmodels\n",
    "import statsmodels.formula.api as smf"
   ]
  },
  {
   "cell_type": "code",
   "execution_count": 2,
   "id": "d870fa2f-34cb-41e6-88c7-b9cfa1b1fdc1",
   "metadata": {},
   "outputs": [],
   "source": [
    "# Function to calculate BIC\n",
    "\n",
    "def calculate_bic(model, data):\n",
    "    \"\"\"\n",
    "    Calculate the Bayesian Information Criterion (BIC) for a fitted model.\n",
    "    \n",
    "    Parameters:\n",
    "        model: A fitted model object (e.g., PySAL OLS or statsmodels OLS).\n",
    "        data: The dataset used to fit the model.\n",
    "    \n",
    "    Returns:\n",
    "        float: The calculated BIC value.\n",
    "    \"\"\"\n",
    "    # Number of observations\n",
    "    n = len(data)\n",
    "\n",
    "    # Number of parameters (including the intercept)\n",
    "    k = len(model.betas)\n",
    "\n",
    "    # Residuals (difference between observed and predicted values)\n",
    "    residuals = model.u  # For PySAL's OLS model, residuals are stored in 'u'\n",
    "\n",
    "    # Residual sum of squares (RSS)\n",
    "    rss = np.sum(residuals ** 2)\n",
    "\n",
    "    # Calculate BIC\n",
    "    bic = n * np.log(rss / n) + k * np.log(n)\n",
    "\n",
    "    return bic\n"
   ]
  },
  {
   "cell_type": "code",
   "execution_count": 3,
   "id": "3fcbc9d1-e454-462c-bf9a-8dd52170b91d",
   "metadata": {},
   "outputs": [],
   "source": [
    "data = pd.read_csv('df_new2finalmodeldata.csv')"
   ]
  },
  {
   "cell_type": "markdown",
   "id": "3354b0fc-d319-4c2c-9de7-fb76e5edb980",
   "metadata": {},
   "source": [
    "## Fit the regression models "
   ]
  },
  {
   "cell_type": "markdown",
   "id": "54a63f28-1428-4071-b743-5a50284a8ae5",
   "metadata": {},
   "source": [
    "### Model 1: Including only HAS AIR CONDITIONING predictor "
   ]
  },
  {
   "cell_type": "code",
   "execution_count": 287,
   "id": "989acf25-0988-4228-bc84-80b2a0ed5358",
   "metadata": {
    "scrolled": true
   },
   "outputs": [
    {
     "name": "stdout",
     "output_type": "stream",
     "text": [
      "REGRESSION RESULTS\n",
      "------------------\n",
      "\n",
      "SUMMARY OF OUTPUT: ORDINARY LEAST SQUARES\n",
      "-----------------------------------------\n",
      "Data set            :     unknown\n",
      "Weights matrix      :        None\n",
      "Dependent Variable  :Log_UNITPRICE                Number of Observations:      578090\n",
      "Mean dependent var  :      7.8868                Number of Variables   :           2\n",
      "S.D. dependent var  :      0.5113                Degrees of Freedom    :      578088\n",
      "R-squared           :      0.0493\n",
      "Adjusted R-squared  :      0.0493\n",
      "Sum squared residual:      143699                F-statistic           :  29963.5985\n",
      "Sigma-square        :       0.249                Prob(F-statistic)     :           0\n",
      "S.E. of regression  :       0.499                Log likelihood        : -417921.648\n",
      "Sigma-square ML     :       0.249                Akaike info criterion :  835847.297\n",
      "S.E of regression ML:      0.4986                Schwarz criterion     :  835869.832\n",
      "\n",
      "------------------------------------------------------------------------------------\n",
      "            Variable     Coefficient       Std.Error     t-Statistic     Probability\n",
      "------------------------------------------------------------------------------------\n",
      "            CONSTANT         7.80065         0.00082      9476.76427         0.00000\n",
      "  HASAIRCONDITIONING         0.23572         0.00136       173.09997         0.00000\n",
      "------------------------------------------------------------------------------------\n",
      "\n",
      "REGRESSION DIAGNOSTICS\n",
      "MULTICOLLINEARITY CONDITION NUMBER            2.014\n",
      "\n",
      "TEST ON NORMALITY OF ERRORS\n",
      "TEST                             DF        VALUE           PROB\n",
      "Jarque-Bera                       2     1482145.825           0.0000\n",
      "\n",
      "DIAGNOSTICS FOR HETEROSKEDASTICITY\n",
      "RANDOM COEFFICIENTS\n",
      "TEST                             DF        VALUE           PROB\n",
      "Breusch-Pagan test                1        1492.635           0.0000\n",
      "Koenker-Bassett test              1         312.496           0.0000\n",
      "================================ END OF REPORT =====================================\n"
     ]
    }
   ],
   "source": [
    "# Fit OLS model\n",
    "m1 = spreg.OLS(\n",
    "    # Dependent variable\n",
    "    data[[\"Log_UNITPRICE\"]].values,\n",
    "    # Independent variables\n",
    "    data[[\"HASAIRCONDITIONING\"]].values,\n",
    "    # Dependent variable name\n",
    "    name_y=\"Log_UNITPRICE\",\n",
    "    # Independent variable name\n",
    "    name_x=[\"HASAIRCONDITIONING\"],\n",
    ")\n",
    "\n",
    "# Print summary of the model\n",
    "print(m1.summary)"
   ]
  },
  {
   "cell_type": "code",
   "execution_count": 289,
   "id": "09571e1f-056d-4c85-be7d-c8578630a87a",
   "metadata": {},
   "outputs": [
    {
     "name": "stdout",
     "output_type": "stream",
     "text": [
      "BIC: -804678.5214446082\n"
     ]
    }
   ],
   "source": [
    "bic_value = calculate_bic(m1, data)\n",
    "print(f\"BIC: {bic_value}\")"
   ]
  },
  {
   "cell_type": "markdown",
   "id": "bdd773ad-36a5-4927-b22a-e25e269f3ec3",
   "metadata": {},
   "source": [
    "### Model 2: Add in all structural predictor variables"
   ]
  },
  {
   "cell_type": "code",
   "execution_count": null,
   "id": "1a32dea3-f1d3-4189-97d1-e9662ce6764f",
   "metadata": {},
   "outputs": [],
   "source": [
    "# List structural variables \n",
    "variable_names_s = ['ROOMNUMBER', 'HASTERRACE', 'HASLIFT','HASAIRCONDITIONING','HASPARKINGSPACE',\n",
    "                    'PARKINGSPACEPRICE', 'HASNORTHORIENTATION', 'HASSOUTHORIENTATION', 'HASEASTORIENTATION', 'HASWESTORIENTATION',\n",
    "                     'HASSWIMMINGPOOL', 'HASDOORMAN', 'HASGARDEN','ISDUPLEX','ISSTUDIO','ISINTOPFLOOR',\n",
    "                    'FLOORCLEAN', 'CADMAXBUILDINGFLOOR','CADDWELLINGCOUNT', 'CoolingDemandCategory'\n",
    "\n",
    "]"
   ]
  },
  {
   "cell_type": "code",
   "execution_count": 37,
   "id": "e01e4c88-4c14-4a68-88ef-0ed3b61c980b",
   "metadata": {
    "scrolled": true
   },
   "outputs": [
    {
     "name": "stdout",
     "output_type": "stream",
     "text": [
      "REGRESSION RESULTS\n",
      "------------------\n",
      "\n",
      "SUMMARY OF OUTPUT: ORDINARY LEAST SQUARES\n",
      "-----------------------------------------\n",
      "Data set            :     unknown\n",
      "Weights matrix      :        None\n",
      "Dependent Variable  :Log_UNITPRICE                Number of Observations:      578080\n",
      "Mean dependent var  :      7.8868                Number of Variables   :          21\n",
      "S.D. dependent var  :      0.5113                Degrees of Freedom    :      578059\n",
      "R-squared           :      0.2754\n",
      "Adjusted R-squared  :      0.2754\n",
      "Sum squared residual:      109524                F-statistic           :  10984.0168\n",
      "Sigma-square        :       0.189                Prob(F-statistic)     :           0\n",
      "S.E. of regression  :       0.435                Log likelihood        : -339423.167\n",
      "Sigma-square ML     :       0.189                Akaike info criterion :  678888.334\n",
      "S.E of regression ML:      0.4353                Schwarz criterion     :  679124.950\n",
      "\n",
      "------------------------------------------------------------------------------------\n",
      "            Variable     Coefficient       Std.Error     t-Statistic     Probability\n",
      "------------------------------------------------------------------------------------\n",
      "            CONSTANT         7.70829         0.00219      3515.13854         0.00000\n",
      "          ROOMNUMBER        -0.28533         0.00827       -34.51942         0.00000\n",
      "          HASTERRACE        -0.09315         0.00129       -72.15288         0.00000\n",
      "             HASLIFT         0.35181         0.00146       240.86859         0.00000\n",
      "  HASAIRCONDITIONING         0.12619         0.00128        98.78371         0.00000\n",
      "     HASPARKINGSPACE         0.03986         0.00171        23.24520         0.00000\n",
      "   PARKINGSPACEPRICE         2.79198         0.12301        22.69782         0.00000\n",
      " HASNORTHORIENTATION         0.03713         0.00210        17.66949         0.00000\n",
      " HASSOUTHORIENTATION         0.03522         0.00148        23.86464         0.00000\n",
      "  HASEASTORIENTATION         0.02684         0.00157        17.08283         0.00000\n",
      "  HASWESTORIENTATION         0.05223         0.00187        27.96158         0.00000\n",
      "     HASSWIMMINGPOOL         0.07388         0.00231        31.95350         0.00000\n",
      "          HASDOORMAN         0.21635         0.00152       142.53736         0.00000\n",
      "           HASGARDEN        -0.13542         0.00202       -67.09229         0.00000\n",
      "            ISDUPLEX         0.00692         0.00390         1.77227         0.07635\n",
      "            ISSTUDIO         0.11072         0.00416        26.60445         0.00000\n",
      "        ISINTOPFLOOR         0.05667         0.00519        10.92159         0.00000\n",
      "          FLOORCLEAN         0.06042         0.00333        18.12920         0.00000\n",
      " CADMAXBUILDINGFLOOR         0.27655         0.00629        43.99282         0.00000\n",
      "    CADDWELLINGCOUNT        -1.39435         0.01807       -77.14970         0.00000\n",
      "CoolingDemandCategory        -0.21912         0.00157      -139.48041         0.00000\n",
      "------------------------------------------------------------------------------------\n",
      "\n",
      "REGRESSION DIAGNOSTICS\n",
      "MULTICOLLINEARITY CONDITION NUMBER           12.730\n",
      "\n",
      "TEST ON NORMALITY OF ERRORS\n",
      "TEST                             DF        VALUE           PROB\n",
      "Jarque-Bera                       2     4925358.348           0.0000\n",
      "\n",
      "DIAGNOSTICS FOR HETEROSKEDASTICITY\n",
      "RANDOM COEFFICIENTS\n",
      "TEST                             DF        VALUE           PROB\n",
      "Breusch-Pagan test               20       14384.473           0.0000\n",
      "Koenker-Bassett test             20        1792.558           0.0000\n",
      "================================ END OF REPORT =====================================\n"
     ]
    }
   ],
   "source": [
    "## Linear regression model-add in structural variables \n",
    "\n",
    "# Fit OLS model\n",
    "m2 = spreg.OLS(\n",
    "    # Dependent variable\n",
    "    data[[\"Log_UNITPRICE\"]].values,\n",
    "    # Independent variables\n",
    "    data[variable_names_s].values,\n",
    "    # Dependent variable name\n",
    "    name_y=\"Log_UNITPRICE\",\n",
    "    # Independent variable name\n",
    "    name_x=variable_names_s,\n",
    ")\n",
    "\n",
    "# Print summary of the model\n",
    "print(m2.summary)"
   ]
  },
  {
   "cell_type": "code",
   "execution_count": 38,
   "id": "dbc8e760-8e8d-46e9-bd93-e7c349d3dba0",
   "metadata": {},
   "outputs": [
    {
     "name": "stdout",
     "output_type": "stream",
     "text": [
      "BIC: -961395.0241264665\n"
     ]
    }
   ],
   "source": [
    "bic_value = calculate_bic(m2, data)\n",
    "print(f\"BIC: {bic_value}\")"
   ]
  },
  {
   "cell_type": "markdown",
   "id": "3bbd9109-ee12-45e2-afc6-c2c9dec8fcb3",
   "metadata": {},
   "source": [
    "### Model 3: Add in all the predictor variables "
   ]
  },
  {
   "cell_type": "code",
   "execution_count": 39,
   "id": "fd10b214-cf48-4cd2-ba11-efa98d80a5b8",
   "metadata": {},
   "outputs": [],
   "source": [
    "# List structural variables \n",
    "variable_names = [ 'ROOMNUMBER', 'HASTERRACE', 'HASLIFT','HASAIRCONDITIONING','HASPARKINGSPACE',\n",
    "                    'PARKINGSPACEPRICE', 'HASNORTHORIENTATION', 'HASSOUTHORIENTATION', 'HASEASTORIENTATION', 'HASWESTORIENTATION',\n",
    "                     'HASSWIMMINGPOOL', 'HASDOORMAN', 'HASGARDEN','ISDUPLEX','ISSTUDIO','ISINTOPFLOOR',\n",
    "                    'FLOORCLEAN', 'CADMAXBUILDINGFLOOR','CADDWELLINGCOUNT', 'CoolingDemandCategory','log_income',\n",
    "                    'building_density', 'bench_density','green_area_percent'\n",
    "\n",
    "]"
   ]
  },
  {
   "cell_type": "code",
   "execution_count": 40,
   "id": "7358e0a7-338c-4a25-9c4a-32cc48849a37",
   "metadata": {
    "scrolled": true
   },
   "outputs": [
    {
     "name": "stdout",
     "output_type": "stream",
     "text": [
      "REGRESSION RESULTS\n",
      "------------------\n",
      "\n",
      "SUMMARY OF OUTPUT: ORDINARY LEAST SQUARES\n",
      "-----------------------------------------\n",
      "Data set            :     unknown\n",
      "Weights matrix      :        None\n",
      "Dependent Variable  :Log_UNITPRICE                Number of Observations:      578080\n",
      "Mean dependent var  :      7.8868                Number of Variables   :          25\n",
      "S.D. dependent var  :      0.5113                Degrees of Freedom    :      578055\n",
      "R-squared           :      0.5753\n",
      "Adjusted R-squared  :      0.5752\n",
      "Sum squared residual:     64198.5                F-statistic           :  32620.8694\n",
      "Sigma-square        :       0.111                Prob(F-statistic)     :           0\n",
      "S.E. of regression  :       0.333                Log likelihood        : -185027.365\n",
      "Sigma-square ML     :       0.111                Akaike info criterion :  370104.729\n",
      "S.E of regression ML:      0.3332                Schwarz criterion     :  370386.416\n",
      "\n",
      "------------------------------------------------------------------------------------\n",
      "            Variable     Coefficient       Std.Error     t-Statistic     Probability\n",
      "------------------------------------------------------------------------------------\n",
      "            CONSTANT        -0.43087         0.01798       -23.95779         0.00000\n",
      "          ROOMNUMBER        -0.63250         0.00638       -99.07406         0.00000\n",
      "          HASTERRACE        -0.03012         0.00099       -30.30267         0.00000\n",
      "             HASLIFT         0.14543         0.00117       124.43842         0.00000\n",
      "  HASAIRCONDITIONING         0.10577         0.00098       108.02117         0.00000\n",
      "     HASPARKINGSPACE         0.06363         0.00132        48.23778         0.00000\n",
      "   PARKINGSPACEPRICE         1.40476         0.09420        14.91220         0.00000\n",
      " HASNORTHORIENTATION         0.00998         0.00161         6.20373         0.00000\n",
      " HASSOUTHORIENTATION         0.00610         0.00113         5.39333         0.00000\n",
      "  HASEASTORIENTATION         0.00489         0.00120         4.05949         0.00005\n",
      "  HASWESTORIENTATION         0.02100         0.00143        14.67862         0.00000\n",
      "     HASSWIMMINGPOOL         0.07644         0.00180        42.43707         0.00000\n",
      "          HASDOORMAN         0.05319         0.00119        44.68033         0.00000\n",
      "           HASGARDEN        -0.03871         0.00156       -24.88387         0.00000\n",
      "            ISDUPLEX        -0.02736         0.00299        -9.15462         0.00000\n",
      "            ISSTUDIO        -0.01993         0.00319        -6.24170         0.00000\n",
      "        ISINTOPFLOOR         0.04772         0.00397        12.00991         0.00000\n",
      "          FLOORCLEAN         0.09799         0.00255        38.38239         0.00000\n",
      " CADMAXBUILDINGFLOOR        -0.04202         0.00491        -8.56515         0.00000\n",
      "    CADDWELLINGCOUNT         0.03405         0.01409         2.41602         0.01569\n",
      "CoolingDemandCategory        -0.10087         0.00122       -82.52587         0.00000\n",
      "          log_income         0.84265         0.00183       460.38538         0.00000\n",
      "    building_density         0.44804         0.00237       188.80750         0.00000\n",
      "       bench_density         0.10736         0.00255        42.08672         0.00000\n",
      "  green_area_percent        -0.15104         0.00217       -69.69886         0.00000\n",
      "------------------------------------------------------------------------------------\n",
      "\n",
      "REGRESSION DIAGNOSTICS\n",
      "MULTICOLLINEARITY CONDITION NUMBER          193.316\n",
      "\n",
      "TEST ON NORMALITY OF ERRORS\n",
      "TEST                             DF        VALUE           PROB\n",
      "Jarque-Bera                       2    50271318.612           0.0000\n",
      "\n",
      "DIAGNOSTICS FOR HETEROSKEDASTICITY\n",
      "RANDOM COEFFICIENTS\n",
      "TEST                             DF        VALUE           PROB\n",
      "Breusch-Pagan test               24       13799.402           0.0000\n",
      "Koenker-Bassett test             24         583.529           0.0000\n",
      "================================ END OF REPORT =====================================\n"
     ]
    },
    {
     "ename": "AttributeError",
     "evalue": "'NoneType' object has no attribute 'T'",
     "output_type": "error",
     "traceback": [
      "\u001b[0;31m---------------------------------------------------------------------------\u001b[0m",
      "\u001b[0;31mAttributeError\u001b[0m                            Traceback (most recent call last)",
      "Cell \u001b[0;32mIn[40], line 17\u001b[0m\n\u001b[1;32m      5\u001b[0m m3 \u001b[38;5;241m=\u001b[39m spreg\u001b[38;5;241m.\u001b[39mOLS(\n\u001b[1;32m      6\u001b[0m     \u001b[38;5;66;03m# Dependent variable\u001b[39;00m\n\u001b[1;32m      7\u001b[0m     data[[\u001b[38;5;124m\"\u001b[39m\u001b[38;5;124mLog_UNITPRICE\u001b[39m\u001b[38;5;124m\"\u001b[39m]]\u001b[38;5;241m.\u001b[39mvalues,\n\u001b[0;32m   (...)\u001b[0m\n\u001b[1;32m     13\u001b[0m     name_x\u001b[38;5;241m=\u001b[39mvariable_names,\n\u001b[1;32m     14\u001b[0m )\n\u001b[1;32m     16\u001b[0m \u001b[38;5;66;03m# Print summary of the model\u001b[39;00m\n\u001b[0;32m---> 17\u001b[0m \u001b[38;5;28;43mprint\u001b[39;49m\u001b[43m(\u001b[49m\u001b[43mm3\u001b[49m\u001b[38;5;241;43m.\u001b[39;49m\u001b[43msummary\u001b[49m\u001b[43m)\u001b[49m\u001b[38;5;241;43m.\u001b[39;49m\u001b[43mT\u001b[49m\n",
      "\u001b[0;31mAttributeError\u001b[0m: 'NoneType' object has no attribute 'T'"
     ]
    }
   ],
   "source": [
    "### Add in neighborurhood variables \n",
    "## Linear regression model-add in structural variables \n",
    "\n",
    "# Fit OLS model\n",
    "m3 = spreg.OLS(\n",
    "    # Dependent variable\n",
    "    data[[\"Log_UNITPRICE\"]].values,\n",
    "    # Independent variables\n",
    "    data[variable_names].values,\n",
    "    # Dependent variable name\n",
    "    name_y=\"Log_UNITPRICE\",\n",
    "    # Independent variable name\n",
    "    name_x=variable_names,\n",
    ")\n",
    "\n",
    "# Print summary of the model\n",
    "print(m3.summary).T"
   ]
  },
  {
   "cell_type": "code",
   "execution_count": 41,
   "id": "7621cff3-a296-43f5-b879-43e76b7e7896",
   "metadata": {},
   "outputs": [
    {
     "name": "stdout",
     "output_type": "stream",
     "text": [
      "BIC: -1270133.5584945134\n"
     ]
    }
   ],
   "source": [
    "bic_value = calculate_bic(m3, data)\n",
    "print(f\"BIC: {bic_value}\")"
   ]
  },
  {
   "cell_type": "markdown",
   "id": "743deaa7-77cb-4e6b-8f6b-67be60d67acc",
   "metadata": {},
   "source": [
    "### Model 4, 5, 6 add in interaction terms"
   ]
  },
  {
   "cell_type": "code",
   "execution_count": 42,
   "id": "ff847338-fe1e-4d2c-9c18-5c89690bd785",
   "metadata": {
    "scrolled": true
   },
   "outputs": [
    {
     "name": "stdout",
     "output_type": "stream",
     "text": [
      "REGRESSION RESULTS\n",
      "------------------\n",
      "\n",
      "SUMMARY OF OUTPUT: ORDINARY LEAST SQUARES\n",
      "-----------------------------------------\n",
      "Data set            :     unknown\n",
      "Weights matrix      :        None\n",
      "Dependent Variable  :Log_UNITPRICE                Number of Observations:      578080\n",
      "Mean dependent var  :      7.8868                Number of Variables   :          26\n",
      "S.D. dependent var  :      0.5113                Degrees of Freedom    :      578054\n",
      "R-squared           :      0.5759\n",
      "Adjusted R-squared  :      0.5759\n",
      "Sum squared residual:     64106.1                F-statistic           :  31394.3997\n",
      "Sigma-square        :       0.111                Prob(F-statistic)     :           0\n",
      "S.E. of regression  :       0.333                Log likelihood        : -184611.296\n",
      "Sigma-square ML     :       0.111                Akaike info criterion :  369274.592\n",
      "S.E of regression ML:      0.3330                Schwarz criterion     :  369567.546\n",
      "\n",
      "------------------------------------------------------------------------------------\n",
      "            Variable     Coefficient       Std.Error     t-Statistic     Probability\n",
      "------------------------------------------------------------------------------------\n",
      "            CONSTANT        -0.71722         0.02053       -34.93658         0.00000\n",
      "          ROOMNUMBER        -0.63431         0.00638       -99.42491         0.00000\n",
      "          HASTERRACE        -0.03095         0.00099       -31.14289         0.00000\n",
      "             HASLIFT         0.14331         0.00117       122.46517         0.00000\n",
      "  HASAIRCONDITIONING         0.86057         0.02618        32.87720         0.00000\n",
      "     HASPARKINGSPACE         0.06349         0.00132        48.16410         0.00000\n",
      "   PARKINGSPACEPRICE         1.44628         0.09415        15.36218         0.00000\n",
      " HASNORTHORIENTATION         0.00961         0.00161         5.97833         0.00000\n",
      " HASSOUTHORIENTATION         0.00606         0.00113         5.36014         0.00000\n",
      "  HASEASTORIENTATION         0.00461         0.00120         3.83219         0.00013\n",
      "  HASWESTORIENTATION         0.02116         0.00143        14.79482         0.00000\n",
      "     HASSWIMMINGPOOL         0.07852         0.00180        43.59240         0.00000\n",
      "          HASDOORMAN         0.05511         0.00119        46.25348         0.00000\n",
      "           HASGARDEN        -0.03911         0.00155       -25.15616         0.00000\n",
      "            ISDUPLEX        -0.02658         0.00299        -8.89967         0.00000\n",
      "            ISSTUDIO        -0.02059         0.00319        -6.45398         0.00000\n",
      "        ISINTOPFLOOR         0.04792         0.00397        12.07062         0.00000\n",
      "          FLOORCLEAN         0.09867         0.00255        38.67216         0.00000\n",
      " CADMAXBUILDINGFLOOR        -0.04221         0.00490        -8.61071         0.00000\n",
      "    CADDWELLINGCOUNT         0.02037         0.01409         1.44581         0.14823\n",
      "CoolingDemandCategory        -0.09946         0.00122       -81.36747         0.00000\n",
      "          log_income         0.87228         0.00210       415.84168         0.00000\n",
      "    building_density         0.44674         0.00237       188.35815         0.00000\n",
      "       bench_density         0.10528         0.00255        41.28747         0.00000\n",
      "  green_area_percent        -0.14862         0.00217       -68.57729         0.00000\n",
      "    INTERACTION_TERM        -0.07747         0.00268       -28.85652         0.00000\n",
      "------------------------------------------------------------------------------------\n",
      "\n",
      "REGRESSION DIAGNOSTICS\n",
      "MULTICOLLINEARITY CONDITION NUMBER          250.407\n",
      "\n",
      "TEST ON NORMALITY OF ERRORS\n",
      "TEST                             DF        VALUE           PROB\n",
      "Jarque-Bera                       2    50445792.353           0.0000\n",
      "\n",
      "DIAGNOSTICS FOR HETEROSKEDASTICITY\n",
      "RANDOM COEFFICIENTS\n",
      "TEST                             DF        VALUE           PROB\n",
      "Breusch-Pagan test               25       14198.472           0.0000\n",
      "Koenker-Bassett test             25         599.403           0.0000\n",
      "================================ END OF REPORT =====================================\n"
     ]
    }
   ],
   "source": [
    "### Fit the interaction effect models\n",
    "# Create an interaction term: HASAIRCONDITIONING * HASSOUTHORIENTATION\n",
    "data[\"INTERACTION_TERM\"] = data[\"HASAIRCONDITIONING\"] * data[\"log_income\"]\n",
    "\n",
    "# Add the interaction term to the variable_names list\n",
    "variable_names_with_interaction = variable_names + [\"INTERACTION_TERM\"]\n",
    "\n",
    "# Fit OLS model with interaction term\n",
    "m4 = spreg.OLS(\n",
    "    # Dependent variable\n",
    "    data[[\"Log_UNITPRICE\"]].values,\n",
    "    # Independent variables\n",
    "    data[variable_names_with_interaction].values,\n",
    "    # Dependent variable name\n",
    "    name_y=\"Log_UNITPRICE\",\n",
    "    # Independent variable name\n",
    "    name_x=variable_names_with_interaction,\n",
    ")\n",
    "\n",
    "# Print summary of the model\n",
    "print(m4.summary)\n"
   ]
  },
  {
   "cell_type": "code",
   "execution_count": 17,
   "id": "bfc7e807-5882-460f-bd39-88a39697e072",
   "metadata": {},
   "outputs": [
    {
     "name": "stdout",
     "output_type": "stream",
     "text": [
      "BIC: -1273154.0982677215\n"
     ]
    }
   ],
   "source": [
    "bic_value = calculate_bic(m4, data)\n",
    "print(f\"BIC: {bic_value}\")"
   ]
  },
  {
   "cell_type": "code",
   "execution_count": 13,
   "id": "e53cb707-4a0f-4bf6-8af9-7a9e3560f0b2",
   "metadata": {},
   "outputs": [
    {
     "name": "stdout",
     "output_type": "stream",
     "text": [
      "REGRESSION RESULTS\n",
      "------------------\n",
      "\n",
      "SUMMARY OF OUTPUT: ORDINARY LEAST SQUARES\n",
      "-----------------------------------------\n",
      "Data set            :     unknown\n",
      "Weights matrix      :        None\n",
      "Dependent Variable  :Log_UNITPRICE                Number of Observations:      578080\n",
      "Mean dependent var  :      7.8868                Number of Variables   :          28\n",
      "S.D. dependent var  :      0.5113                Degrees of Freedom    :      578052\n",
      "R-squared           :      0.5775\n",
      "Adjusted R-squared  :      0.5775\n",
      "Sum squared residual:     63858.5                F-statistic           :  29264.5089\n",
      "Sigma-square        :       0.110                Prob(F-statistic)     :           0\n",
      "S.E. of regression  :       0.332                Log likelihood        : -183492.757\n",
      "Sigma-square ML     :       0.110                Akaike info criterion :  367041.513\n",
      "S.E of regression ML:      0.3324                Schwarz criterion     :  367357.002\n",
      "\n",
      "------------------------------------------------------------------------------------\n",
      "            Variable     Coefficient       Std.Error     t-Statistic     Probability\n",
      "------------------------------------------------------------------------------------\n",
      "            CONSTANT        -0.44224         0.01794       -24.65315         0.00000\n",
      "          ROOMNUMBER        -0.63431         0.00641       -98.99112         0.00000\n",
      "          HASTERRACE        -0.03708         0.00100       -37.02875         0.00000\n",
      "             HASLIFT         0.13640         0.00118       115.84312         0.00000\n",
      "  HASAIRCONDITIONING         0.05377         0.00173        31.02956         0.00000\n",
      "     HASPARKINGSPACE         0.05457         0.00135        40.50616         0.00000\n",
      "   PARKINGSPACEPRICE         1.22343         0.09401        13.01321         0.00000\n",
      " HASNORTHORIENTATION         0.00588         0.00161         3.65616         0.00026\n",
      " HASSOUTHORIENTATION         0.00086         0.00113         0.75458         0.45050\n",
      "  HASEASTORIENTATION         0.00052         0.00121         0.42796         0.66868\n",
      "  HASWESTORIENTATION         0.01750         0.00143        12.24328         0.00000\n",
      "          HASBOXROOM         0.03154         0.00117        27.02432         0.00000\n",
      "         HASWARDROBE         0.03848         0.00102        37.69602         0.00000\n",
      "     HASSWIMMINGPOOL         0.07533         0.00182        41.30718         0.00000\n",
      "          HASDOORMAN         0.04890         0.00120        40.87395         0.00000\n",
      "           HASGARDEN        -0.04393         0.00156       -28.13694         0.00000\n",
      "            ISDUPLEX        -0.03025         0.00298       -10.14636         0.00000\n",
      "            ISSTUDIO        -0.01694         0.00319        -5.31686         0.00000\n",
      "        ISINTOPFLOOR         0.04622         0.00396        11.66165         0.00000\n",
      "          FLOORCLEAN         0.09916         0.00255        38.91317         0.00000\n",
      " CADMAXBUILDINGFLOOR        -0.03983         0.00489        -8.13826         0.00000\n",
      "    CADDWELLINGCOUNT         0.03704         0.01406         2.63373         0.00845\n",
      "CoolingDemandCategory        -0.09863         0.00122       -80.76236         0.00000\n",
      "          log_income         0.84428         0.00183       462.33563         0.00000\n",
      "    building_density         0.40602         0.00276       146.99600         0.00000\n",
      "       bench_density         0.10453         0.00254        41.07373         0.00000\n",
      "  green_area_percent        -0.14922         0.00216       -69.02083         0.00000\n",
      "    INTERACTION_TERM         0.12667         0.00446        28.38902         0.00000\n",
      "------------------------------------------------------------------------------------\n",
      "\n",
      "REGRESSION DIAGNOSTICS\n",
      "MULTICOLLINEARITY CONDITION NUMBER          203.945\n",
      "\n",
      "TEST ON NORMALITY OF ERRORS\n",
      "TEST                             DF        VALUE           PROB\n",
      "Jarque-Bera                       2    51410575.487           0.0000\n",
      "\n",
      "DIAGNOSTICS FOR HETEROSKEDASTICITY\n",
      "RANDOM COEFFICIENTS\n",
      "TEST                             DF        VALUE           PROB\n",
      "Breusch-Pagan test               27       14505.243           0.0000\n",
      "Koenker-Bassett test             27         606.765           0.0000\n",
      "================================ END OF REPORT =====================================\n"
     ]
    }
   ],
   "source": [
    "### Fit the interaction effect models\n",
    "# Create an interaction term: HASAIRCONDITIONING * HASSOUTHORIENTATION\n",
    "data[\"INTERACTION_TERM\"] = data[\"HASAIRCONDITIONING\"] * data[\"building_density\"]\n",
    "\n",
    "# Add the interaction term to the variable_names list\n",
    "variable_names_with_interaction = variable_names + [\"INTERACTION_TERM\"]\n",
    "\n",
    "# Fit OLS model with interaction term\n",
    "m5 = spreg.OLS(\n",
    "    # Dependent variable\n",
    "    data[[\"Log_UNITPRICE\"]].values,\n",
    "    # Independent variables\n",
    "    data[variable_names_with_interaction].values,\n",
    "    # Dependent variable name\n",
    "    name_y=\"Log_UNITPRICE\",\n",
    "    # Independent variable name\n",
    "    name_x=variable_names_with_interaction,\n",
    ")\n",
    "\n",
    "# Print summary of the model\n",
    "print(m5.summary)\n"
   ]
  },
  {
   "cell_type": "code",
   "execution_count": 18,
   "id": "32af5090-8da7-4348-a011-8079733d4694",
   "metadata": {},
   "outputs": [
    {
     "name": "stdout",
     "output_type": "stream",
     "text": [
      "BIC: -1272397.9576739648\n"
     ]
    }
   ],
   "source": [
    "bic_value = calculate_bic(m5, data)\n",
    "print(f\"BIC: {bic_value}\")"
   ]
  },
  {
   "cell_type": "code",
   "execution_count": 19,
   "id": "b03a80e8-8e9b-4e97-a17d-4a1a0a9167d1",
   "metadata": {
    "scrolled": true
   },
   "outputs": [
    {
     "name": "stdout",
     "output_type": "stream",
     "text": [
      "REGRESSION RESULTS\n",
      "------------------\n",
      "\n",
      "SUMMARY OF OUTPUT: ORDINARY LEAST SQUARES\n",
      "-----------------------------------------\n",
      "Data set            :     unknown\n",
      "Weights matrix      :        None\n",
      "Dependent Variable  :Log_UNITPRICE                Number of Observations:      578080\n",
      "Mean dependent var  :      7.8868                Number of Variables   :          28\n",
      "S.D. dependent var  :      0.5113                Degrees of Freedom    :      578052\n",
      "R-squared           :      0.5769\n",
      "Adjusted R-squared  :      0.5769\n",
      "Sum squared residual:     63943.1                F-statistic           :  29197.4930\n",
      "Sigma-square        :       0.111                Prob(F-statistic)     :           0\n",
      "S.E. of regression  :       0.333                Log likelihood        : -183875.264\n",
      "Sigma-square ML     :       0.111                Akaike info criterion :  367806.528\n",
      "S.E of regression ML:      0.3326                Schwarz criterion     :  368122.017\n",
      "\n",
      "------------------------------------------------------------------------------------\n",
      "            Variable     Coefficient       Std.Error     t-Statistic     Probability\n",
      "------------------------------------------------------------------------------------\n",
      "            CONSTANT        -0.43330         0.01800       -24.06568         0.00000\n",
      "          ROOMNUMBER        -0.63442         0.00641       -98.93327         0.00000\n",
      "          HASTERRACE        -0.03670         0.00100       -36.61360         0.00000\n",
      "             HASLIFT         0.13794         0.00118       117.19556         0.00000\n",
      "  HASAIRCONDITIONING         0.08338         0.00190        43.79140         0.00000\n",
      "     HASPARKINGSPACE         0.05346         0.00135        39.67196         0.00000\n",
      "   PARKINGSPACEPRICE         1.25184         0.09407        13.30692         0.00000\n",
      " HASNORTHORIENTATION         0.00597         0.00161         3.71357         0.00020\n",
      " HASSOUTHORIENTATION         0.00089         0.00114         0.78047         0.43511\n",
      "  HASEASTORIENTATION         0.00037         0.00121         0.31051         0.75617\n",
      "  HASWESTORIENTATION         0.01733         0.00143        12.11081         0.00000\n",
      "          HASBOXROOM         0.03164         0.00117        27.08623         0.00000\n",
      "         HASWARDROBE         0.03882         0.00102        37.99588         0.00000\n",
      "     HASSWIMMINGPOOL         0.07318         0.00182        40.11188         0.00000\n",
      "          HASDOORMAN         0.04771         0.00120        39.87249         0.00000\n",
      "           HASGARDEN        -0.04587         0.00156       -29.39405         0.00000\n",
      "            ISDUPLEX        -0.02874         0.00298        -9.63195         0.00000\n",
      "            ISSTUDIO        -0.01635         0.00319        -5.12714         0.00000\n",
      "        ISINTOPFLOOR         0.04717         0.00397        11.89540         0.00000\n",
      "          FLOORCLEAN         0.09861         0.00255        38.67301         0.00000\n",
      " CADMAXBUILDINGFLOOR        -0.04000         0.00490        -8.16265         0.00000\n",
      "    CADDWELLINGCOUNT         0.02539         0.01407         1.80499         0.07108\n",
      "CoolingDemandCategory        -0.10377         0.00148       -70.12573         0.00000\n",
      "          log_income         0.84243         0.00183       460.75622         0.00000\n",
      "    building_density         0.44601         0.00237       188.14855         0.00000\n",
      "       bench_density         0.10596         0.00255        41.61365         0.00000\n",
      "  green_area_percent        -0.15062         0.00216       -69.64083         0.00000\n",
      "    INTERACTION_TERM         0.01483         0.00233         6.35603         0.00000\n",
      "------------------------------------------------------------------------------------\n",
      "\n",
      "REGRESSION DIAGNOSTICS\n",
      "MULTICOLLINEARITY CONDITION NUMBER          204.709\n",
      "\n",
      "TEST ON NORMALITY OF ERRORS\n",
      "TEST                             DF        VALUE           PROB\n",
      "Jarque-Bera                       2    51198576.567           0.0000\n",
      "\n",
      "DIAGNOSTICS FOR HETEROSKEDASTICITY\n",
      "RANDOM COEFFICIENTS\n",
      "TEST                             DF        VALUE           PROB\n",
      "Breusch-Pagan test               27       14416.759           0.0000\n",
      "Koenker-Bassett test             27         604.269           0.0000\n",
      "================================ END OF REPORT =====================================\n"
     ]
    }
   ],
   "source": [
    "### Fit the interaction effect models\n",
    "# Create an interaction term: HASAIRCONDITIONING * HASSOUTHORIENTATION\n",
    "data[\"INTERACTION_TERM\"] = data[\"HASAIRCONDITIONING\"] * data[\"CoolingDemandCategory\"]\n",
    "\n",
    "# Add the interaction term to the variable_names list\n",
    "variable_names_with_interaction = variable_names + [\"INTERACTION_TERM\"]\n",
    "\n",
    "# Fit OLS model with interaction term\n",
    "m6 = spreg.OLS(\n",
    "    # Dependent variable\n",
    "    data[[\"Log_UNITPRICE\"]].values,\n",
    "    # Independent variables\n",
    "    data[variable_names_with_interaction].values,\n",
    "    # Dependent variable name\n",
    "    name_y=\"Log_UNITPRICE\",\n",
    "    # Independent variable name\n",
    "    name_x=variable_names_with_interaction,\n",
    ")\n",
    "\n",
    "# Print summary of the model\n",
    "print(m6.summary)\n"
   ]
  },
  {
   "cell_type": "code",
   "execution_count": 20,
   "id": "305e2c2b-6b7e-46dc-9e04-1292f1858795",
   "metadata": {},
   "outputs": [
    {
     "name": "stdout",
     "output_type": "stream",
     "text": [
      "BIC: -1272397.9576739648\n"
     ]
    }
   ],
   "source": [
    "bic_value = calculate_bic(m6, data)\n",
    "print(f\"BIC: {bic_value}\")"
   ]
  },
  {
   "cell_type": "markdown",
   "id": "72cb14ea-a6b8-4ff1-a843-7cd0e85278e5",
   "metadata": {},
   "source": [
    "## Prepare the data for the multilevel model"
   ]
  },
  {
   "cell_type": "code",
   "execution_count": 26,
   "id": "23cd5172-41ca-4e51-ac9b-8d08ab6d1281",
   "metadata": {},
   "outputs": [],
   "source": [
    "# Example: Select only specific columns\n",
    "barrios = gpd.read_file('barrios.shp')\n",
    "data = gpd.GeoDataFrame(data, geometry=data['geometry'], crs=25830)\n",
    "joined = gpd.sjoin(data, barrios, how=\"inner\", predicate=\"within\")"
   ]
  },
  {
   "cell_type": "code",
   "execution_count": 27,
   "id": "710f3bc2-aca5-4c09-a20e-42361c21ab31",
   "metadata": {},
   "outputs": [],
   "source": [
    "joined.columns = [col..replace(\"_\", \"\").replace(\".\", \"\") for col in joined.columns]"
   ]
  },
  {
   "cell_type": "code",
   "execution_count": 43,
   "id": "4c2c48c4-d5cf-4a27-9e52-aa405738837e",
   "metadata": {},
   "outputs": [],
   "source": [
    "# Save df_new2 to a CSV file\n",
    "df_new2.to_csv('final_data_with.csv', index=False)"
   ]
  }
 ],
 "metadata": {
  "kernelspec": {
   "display_name": "GDS-10.0",
   "language": "python",
   "name": "gds"
  },
  "language_info": {
   "codemirror_mode": {
    "name": "ipython",
    "version": 3
   },
   "file_extension": ".py",
   "mimetype": "text/x-python",
   "name": "python",
   "nbconvert_exporter": "python",
   "pygments_lexer": "ipython3",
   "version": "3.9.18"
  }
 },
 "nbformat": 4,
 "nbformat_minor": 5
}
