{
 "cells": [
  {
   "cell_type": "markdown",
   "id": "66663a27-d95f-4075-85a1-da957bf0aadd",
   "metadata": {},
   "source": [
    "## Data Preparation "
   ]
  },
  {
   "cell_type": "markdown",
   "id": "e387dcf9-2416-4ee6-b483-1b7241aff9ee",
   "metadata": {},
   "source": [
    "The following notebook prepares and cleans the housing listings data provided by idealista for the analysis of spatial inequalities of air conditioning. The analysis is for the paper titled 'Using Hedonic Modelling to Assess Spatial Inequalities of Air Conditioning in Madrid'. Key steps in this notebook include data cleaning, and the spatial join with neighbourhood level census variables to create the dataframe for the hedonic analysis in notebook 3.\n",
    "\n",
    "The data for the study is not openly available and is provided by idealista as part of a PhD collaboration, thus one year of data that has been publically publised by idealista can be replaced with our data if you would like to replicate the analysis. The results will therefore not be the same."
   ]
  },
  {
   "cell_type": "code",
   "execution_count": 41,
   "id": "eab538ad-0285-4803-8646-60a1086aa241",
   "metadata": {
    "scrolled": true
   },
   "outputs": [],
   "source": [
    "# Read in libraries \n",
    "import pandas as pd\n",
    "import geopandas as gpd\n",
    "from shapely import wkt\n",
    "import seaborn as sns\n",
    "import matplotlib.pyplot as plt\n",
    "import numpy as np\n"
   ]
  },
  {
   "cell_type": "code",
   "execution_count": 12,
   "id": "5b568e0b-4467-4235-b853-37eaeac944c0",
   "metadata": {
    "scrolled": true
   },
   "outputs": [
    {
     "name": "stdout",
     "output_type": "stream",
     "text": [
      "<class 'pandas.core.frame.DataFrame'>\n",
      "RangeIndex: 882575 entries, 0 to 882574\n",
      "Data columns (total 36 columns):\n",
      " #   Column                         Non-Null Count   Dtype  \n",
      "---  ------                         --------------   -----  \n",
      " 0   Unnamed: 0                     882575 non-null  int64  \n",
      " 1   ASSETID                        882575 non-null  object \n",
      " 2   PERIOD                         882575 non-null  int64  \n",
      " 3   PRICE                          882575 non-null  float64\n",
      " 4   UNITPRICE                      882575 non-null  float64\n",
      " 5   CONSTRUCTEDAREA                882575 non-null  int64  \n",
      " 6   ROOMNUMBER                     882575 non-null  int64  \n",
      " 7   BATHNUMBER                     882575 non-null  int64  \n",
      " 8   HASTERRACE                     882575 non-null  int64  \n",
      " 9   HASLIFT                        882575 non-null  int64  \n",
      " 10  HASAIRCONDITIONING             882575 non-null  int64  \n",
      " 11  AMENITYID                      882575 non-null  int64  \n",
      " 12  HASPARKINGSPACE                882575 non-null  int64  \n",
      " 13  ISPARKINGSPACEINCLUDEDINPRICE  882575 non-null  int64  \n",
      " 14  PARKINGSPACEPRICE              882575 non-null  int64  \n",
      " 15  HASNORTHORIENTATION            882575 non-null  int64  \n",
      " 16  HASSOUTHORIENTATION            882575 non-null  int64  \n",
      " 17  HASEASTORIENTATION             882575 non-null  int64  \n",
      " 18  HASWESTORIENTATION             882575 non-null  int64  \n",
      " 19  HASBOXROOM                     882575 non-null  int64  \n",
      " 20  HASWARDROBE                    882575 non-null  int64  \n",
      " 21  HASSWIMMINGPOOL                882575 non-null  int64  \n",
      " 22  HASDOORMAN                     882575 non-null  int64  \n",
      " 23  HASGARDEN                      882575 non-null  int64  \n",
      " 24  ISDUPLEX                       882575 non-null  int64  \n",
      " 25  ISSTUDIO                       882575 non-null  int64  \n",
      " 26  ISINTOPFLOOR                   882575 non-null  int64  \n",
      " 27  FLOORCLEAN                     882575 non-null  float64\n",
      " 28  BUILTTYPEID                    882575 non-null  float64\n",
      " 29  FLATLOCATIONID                 882575 non-null  float64\n",
      " 30  CADCONSTRUCTIONYEAR            882575 non-null  float64\n",
      " 31  CADMAXBUILDINGFLOOR            882575 non-null  int64  \n",
      " 32  CADDWELLINGCOUNT               882575 non-null  int64  \n",
      " 33  CADASTRALQUALITYID             882575 non-null  float64\n",
      " 34  LONGITUDE                      882575 non-null  float64\n",
      " 35  LATITUDE                       882575 non-null  float64\n",
      "dtypes: float64(9), int64(26), object(1)\n",
      "memory usage: 242.4+ MB\n"
     ]
    }
   ],
   "source": [
    "# Read in the data \n",
    "orig = pd.read_csv('Madrid_data_clean.csv')\n",
    "orig.info()"
   ]
  },
  {
   "cell_type": "markdown",
   "id": "9a7ae59e-7f13-48fe-9bfd-382914d43068",
   "metadata": {},
   "source": [
    "### Remove repeated entries "
   ]
  },
  {
   "cell_type": "markdown",
   "id": "9b935b07-1486-49ee-9907-5ca35f62dfb0",
   "metadata": {},
   "source": [
    "A caveat of housing listings data is the occurance of repeated entries when a property is posted more than once on the site, for example if the price changes, it doesn't sell in one quarter or to increase publicity. ASSET ID is a unique identifier of a property on idealista, thus any repeated IDs represent the same property repeated on the site. We order the listings by the date and ID and keep the final listing posted on the site as this is most representative of the final sale price. We remove 289,446 repeated property listings. "
   ]
  },
  {
   "cell_type": "code",
   "execution_count": 16,
   "id": "b1677648-dae4-4dd7-9464-edfef3a65e79",
   "metadata": {
    "scrolled": true
   },
   "outputs": [
    {
     "name": "stdout",
     "output_type": "stream",
     "text": [
      "<class 'pandas.core.frame.DataFrame'>\n",
      "Index: 593129 entries, 20 to 882574\n",
      "Data columns (total 36 columns):\n",
      " #   Column                         Non-Null Count   Dtype  \n",
      "---  ------                         --------------   -----  \n",
      " 0   Unnamed: 0                     593129 non-null  int64  \n",
      " 1   ASSETID                        593129 non-null  object \n",
      " 2   PERIOD                         593129 non-null  int64  \n",
      " 3   PRICE                          593129 non-null  float64\n",
      " 4   UNITPRICE                      593129 non-null  float64\n",
      " 5   CONSTRUCTEDAREA                593129 non-null  int64  \n",
      " 6   ROOMNUMBER                     593129 non-null  int64  \n",
      " 7   BATHNUMBER                     593129 non-null  int64  \n",
      " 8   HASTERRACE                     593129 non-null  int64  \n",
      " 9   HASLIFT                        593129 non-null  int64  \n",
      " 10  HASAIRCONDITIONING             593129 non-null  int64  \n",
      " 11  AMENITYID                      593129 non-null  int64  \n",
      " 12  HASPARKINGSPACE                593129 non-null  int64  \n",
      " 13  ISPARKINGSPACEINCLUDEDINPRICE  593129 non-null  int64  \n",
      " 14  PARKINGSPACEPRICE              593129 non-null  int64  \n",
      " 15  HASNORTHORIENTATION            593129 non-null  int64  \n",
      " 16  HASSOUTHORIENTATION            593129 non-null  int64  \n",
      " 17  HASEASTORIENTATION             593129 non-null  int64  \n",
      " 18  HASWESTORIENTATION             593129 non-null  int64  \n",
      " 19  HASBOXROOM                     593129 non-null  int64  \n",
      " 20  HASWARDROBE                    593129 non-null  int64  \n",
      " 21  HASSWIMMINGPOOL                593129 non-null  int64  \n",
      " 22  HASDOORMAN                     593129 non-null  int64  \n",
      " 23  HASGARDEN                      593129 non-null  int64  \n",
      " 24  ISDUPLEX                       593129 non-null  int64  \n",
      " 25  ISSTUDIO                       593129 non-null  int64  \n",
      " 26  ISINTOPFLOOR                   593129 non-null  int64  \n",
      " 27  FLOORCLEAN                     593129 non-null  float64\n",
      " 28  BUILTTYPEID                    593129 non-null  float64\n",
      " 29  FLATLOCATIONID                 593129 non-null  float64\n",
      " 30  CADCONSTRUCTIONYEAR            593129 non-null  float64\n",
      " 31  CADMAXBUILDINGFLOOR            593129 non-null  int64  \n",
      " 32  CADDWELLINGCOUNT               593129 non-null  int64  \n",
      " 33  CADASTRALQUALITYID             593129 non-null  float64\n",
      " 34  LONGITUDE                      593129 non-null  float64\n",
      " 35  LATITUDE                       593129 non-null  float64\n",
      "dtypes: float64(9), int64(26), object(1)\n",
      "memory usage: 167.4+ MB\n"
     ]
    }
   ],
   "source": [
    "# Step 1: Sort by ASSETID and PERIOD, and keep the last occurrence of each ASSETID\n",
    "mad_data = orig.sort_values(by=['ASSETID', 'PERIOD'])  # Sort by ASSETID and PERIOD\n",
    "mad_data = orig.drop_duplicates(subset='ASSETID', keep='last')\n",
    "mad_data.info() # Check the number of entries"
   ]
  },
  {
   "cell_type": "markdown",
   "id": "865208fa-d77c-4577-9adc-159697a695c4",
   "metadata": {},
   "source": [
    "### Remove incorrect data "
   ]
  },
  {
   "cell_type": "markdown",
   "id": "7196efe6-9b56-4617-b252-e86606676c9b",
   "metadata": {},
   "source": [
    "We next remove any instances where the price is €0 and the floor number is 999 as these are mistakes in the data. There are 125 listings where the price is listed as €0 and one entry of Floor Number 999."
   ]
  },
  {
   "cell_type": "code",
   "execution_count": 19,
   "id": "c201c551-7c8c-4287-9af0-64c9b3758972",
   "metadata": {},
   "outputs": [],
   "source": [
    "# Step 2: Remove rows where PRICE == 0\n",
    "mad_data2 = mad_data[mad_data['PRICE'] != 0]\n",
    "# Step 3: Remove rows where FLOOR NUMBER == 999\n",
    "mad_data2 = mad_data2[mad_data2['FLOORCLEAN'] != 999]"
   ]
  },
  {
   "cell_type": "markdown",
   "id": "6a63c65e-8e3c-4c03-ae2d-236b92ca6571",
   "metadata": {},
   "source": [
    "### Read in Polygon Level Data and join to housing listings data "
   ]
  },
  {
   "cell_type": "markdown",
   "id": "cad916f1-0f51-4227-955f-3fdea0c4ecc7",
   "metadata": {},
   "source": [
    "For the hedonic models we also require data at the neighbourhood level which is calculated in the first notebook using data from various official census sources. This sections reads in this data and joins it to the housing listings data using a spatial join. 70 listings are dropped where the location of the property is outside of the neighbourhood boundaries."
   ]
  },
  {
   "cell_type": "code",
   "execution_count": 24,
   "id": "4eb73110-818d-4760-acbb-5060e3cd51d3",
   "metadata": {},
   "outputs": [],
   "source": [
    "# Read in neighbourhood level data \n",
    "# Replace with your file path \"\"\n",
    "barrios_vars = pd.read_csv(\"neighbourhood_level_variables.csv\") # At the neighbourhood level\n",
    "district_vars = pd.read_csv(\"districts_final.csv\")  # At the district level"
   ]
  },
  {
   "cell_type": "code",
   "execution_count": 26,
   "id": "5945828e-8bea-40ae-a53c-46b9008031b3",
   "metadata": {},
   "outputs": [],
   "source": [
    "# Make geometry valid and convert to geodataframe (barrios)\n",
    "barrios_vars['geometry_x'] = barrios_vars['geometry_x'].apply(wkt.loads)\n",
    "barrios_vars = gpd.GeoDataFrame(barrios_vars, geometry=barrios_vars['geometry_x'], crs=25830)"
   ]
  },
  {
   "cell_type": "code",
   "execution_count": 27,
   "id": "c3b6459b-ab92-48b2-9f20-62f2cca3a1ea",
   "metadata": {},
   "outputs": [],
   "source": [
    "# Example: Select only columns needed for the analysis \n",
    "subset_bar = barrios_vars[['CODBAR', 'NOMBRE_x', 'income_2019','%_spanish_2021', 'pop_2021', '%_singlehouse_2021','avg_house_size_2021',  \n",
    "                 'geometry', '%_u18_2021', '%_over65_2021', 'Average_age_2021', 'area_x', 'building_density', 'bench_density']]"
   ]
  },
  {
   "cell_type": "code",
   "execution_count": 31,
   "id": "beabb80b-4a9f-4a7e-9bc5-dc04e853b9b2",
   "metadata": {},
   "outputs": [],
   "source": [
    "# Convert to geodataframe (districts)\n",
    "district_vars = gpd.GeoDataFrame(district_vars, geometry=district_vars['geometry'], crs=25830)"
   ]
  },
  {
   "cell_type": "code",
   "execution_count": 32,
   "id": "e08a100e-75bc-4bd3-9b71-db490fa3d060",
   "metadata": {},
   "outputs": [],
   "source": [
    "subset_dis = district_vars[['green_area_percent', 'tree_density', 'geometry', 'code_dis', 'name_dis']]"
   ]
  },
  {
   "cell_type": "code",
   "execution_count": 33,
   "id": "f9bed734-0975-4057-bd07-9510e8fc89d9",
   "metadata": {},
   "outputs": [],
   "source": [
    "# Convert the housing listings data to a geodataframe with the correct crs \n",
    "gdf = gpd.GeoDataFrame(\n",
    "    mad_data2, geometry=gpd.points_from_xy(mad_data2.LONGITUDE, mad_data2.LATITUDE), crs=\"EPSG:4326\"\n",
    ")\n",
    "\n",
    "gdf2 = gdf.to_crs('25830')"
   ]
  },
  {
   "cell_type": "code",
   "execution_count": 45,
   "id": "7d527ee0-3961-485d-9a3c-8a17489c50d1",
   "metadata": {
    "scrolled": true
   },
   "outputs": [],
   "source": [
    "# Perform the first spatial join to neighbourhood variables\n",
    "points_with_polygons = gpd.sjoin(gdf2, subset_bar, how=\"inner\", predicate=\"within\")\n",
    "\n",
    "# Drop the 'index_right' column\n",
    "points_with_polygons = points_with_polygons.drop(columns=['index_right'])\n",
    "\n",
    "# Perform the second spatial join (points_with_polygons within another set of polygons)\n",
    "points_with_polygons2 = gpd.sjoin(points_with_polygons, subset_dis, how=\"inner\", predicate=\"within\")\n"
   ]
  },
  {
   "cell_type": "code",
   "execution_count": 35,
   "id": "2588021a-9f29-4334-a71e-4ccae262cfb1",
   "metadata": {},
   "outputs": [
    {
     "name": "stdout",
     "output_type": "stream",
     "text": [
      "<class 'geopandas.geodataframe.GeoDataFrame'>\n",
      "Index: 592933 entries, 20 to 882405\n",
      "Data columns (total 55 columns):\n",
      " #   Column                         Non-Null Count   Dtype   \n",
      "---  ------                         --------------   -----   \n",
      " 0   Unnamed: 0                     592933 non-null  int64   \n",
      " 1   ASSETID                        592933 non-null  object  \n",
      " 2   PERIOD                         592933 non-null  int64   \n",
      " 3   PRICE                          592933 non-null  float64 \n",
      " 4   UNITPRICE                      592933 non-null  float64 \n",
      " 5   CONSTRUCTEDAREA                592933 non-null  int64   \n",
      " 6   ROOMNUMBER                     592933 non-null  int64   \n",
      " 7   BATHNUMBER                     592933 non-null  int64   \n",
      " 8   HASTERRACE                     592933 non-null  int64   \n",
      " 9   HASLIFT                        592933 non-null  int64   \n",
      " 10  HASAIRCONDITIONING             592933 non-null  int64   \n",
      " 11  AMENITYID                      592933 non-null  int64   \n",
      " 12  HASPARKINGSPACE                592933 non-null  int64   \n",
      " 13  ISPARKINGSPACEINCLUDEDINPRICE  592933 non-null  int64   \n",
      " 14  PARKINGSPACEPRICE              592933 non-null  int64   \n",
      " 15  HASNORTHORIENTATION            592933 non-null  int64   \n",
      " 16  HASSOUTHORIENTATION            592933 non-null  int64   \n",
      " 17  HASEASTORIENTATION             592933 non-null  int64   \n",
      " 18  HASWESTORIENTATION             592933 non-null  int64   \n",
      " 19  HASBOXROOM                     592933 non-null  int64   \n",
      " 20  HASWARDROBE                    592933 non-null  int64   \n",
      " 21  HASSWIMMINGPOOL                592933 non-null  int64   \n",
      " 22  HASDOORMAN                     592933 non-null  int64   \n",
      " 23  HASGARDEN                      592933 non-null  int64   \n",
      " 24  ISDUPLEX                       592933 non-null  int64   \n",
      " 25  ISSTUDIO                       592933 non-null  int64   \n",
      " 26  ISINTOPFLOOR                   592933 non-null  int64   \n",
      " 27  FLOORCLEAN                     592933 non-null  float64 \n",
      " 28  BUILTTYPEID                    592933 non-null  float64 \n",
      " 29  FLATLOCATIONID                 592933 non-null  float64 \n",
      " 30  CADCONSTRUCTIONYEAR            592933 non-null  float64 \n",
      " 31  CADMAXBUILDINGFLOOR            592933 non-null  int64   \n",
      " 32  CADDWELLINGCOUNT               592933 non-null  int64   \n",
      " 33  CADASTRALQUALITYID             592933 non-null  float64 \n",
      " 34  LONGITUDE                      592933 non-null  float64 \n",
      " 35  LATITUDE                       592933 non-null  float64 \n",
      " 36  geometry                       592933 non-null  geometry\n",
      " 37  CODBAR                         592933 non-null  int64   \n",
      " 38  NOMBRE_x                       592933 non-null  object  \n",
      " 39  income_2019                    592933 non-null  float64 \n",
      " 40  %_spanish_2021                 592933 non-null  float64 \n",
      " 41  pop_2021                       592933 non-null  float64 \n",
      " 42  %_singlehouse_2021             592933 non-null  float64 \n",
      " 43  avg_house_size_2021            592933 non-null  float64 \n",
      " 44  %_u18_2021                     592933 non-null  float64 \n",
      " 45  %_over65_2021                  592933 non-null  float64 \n",
      " 46  Average_age_2021               592933 non-null  float64 \n",
      " 47  area_x                         592933 non-null  float64 \n",
      " 48  building_density               592933 non-null  float64 \n",
      " 49  bench_density                  592933 non-null  float64 \n",
      " 50  index_right                    592933 non-null  int64   \n",
      " 51  green_area_percent             592933 non-null  float64 \n",
      " 52  tree_density                   592933 non-null  float64 \n",
      " 53  code_dis                       592933 non-null  int64   \n",
      " 54  name_dis                       592933 non-null  object  \n",
      "dtypes: float64(22), geometry(1), int64(29), object(3)\n",
      "memory usage: 253.3+ MB\n"
     ]
    }
   ],
   "source": [
    "# Inspect to check the join worked and there are no missing values. \n",
    "points_with_polygons2.info()"
   ]
  },
  {
   "cell_type": "markdown",
   "id": "90cec187-5e38-4755-8814-4e23c40f1bef",
   "metadata": {},
   "source": [
    "### Join to satellite image feature clusters"
   ]
  },
  {
   "cell_type": "code",
   "execution_count": 73,
   "id": "f6a7613d-a54d-4901-8ddb-1f77269f88da",
   "metadata": {},
   "outputs": [],
   "source": [
    "# Read in labels\n",
    "labels = pd.read_csv('labels_geometry.csv')"
   ]
  },
  {
   "cell_type": "code",
   "execution_count": 74,
   "id": "bf3954ce-53f5-4330-84a3-08feee9b7200",
   "metadata": {},
   "outputs": [],
   "source": [
    "# Create a GeoDataFrame\n",
    "# Make geometry valid and convert to geodataframe \n",
    "labels['geometry'] = labels['geometry'].apply(wkt.loads)\n",
    "labels = gpd.GeoDataFrame(labels, geometry=labels['geometry'], crs=25830)"
   ]
  },
  {
   "cell_type": "code",
   "execution_count": 77,
   "id": "77970b02-3c76-411c-a78b-bcc718e0680e",
   "metadata": {},
   "outputs": [],
   "source": [
    "# Perform the spatial join to satellite image clusters\n",
    "# Drop the 'index_right' column\n",
    "points_with_polygons2 = points_with_polygons2.drop(columns=['index_right'])\n",
    "points_with_polygons3 = gpd.sjoin(points_with_polygons2 , labels, how=\"inner\", predicate=\"within\")"
   ]
  },
  {
   "cell_type": "code",
   "execution_count": 79,
   "id": "92621cc4-c4b6-4930-a848-6abe76fbeefb",
   "metadata": {
    "collapsed": true,
    "jupyter": {
     "outputs_hidden": true
    },
    "scrolled": true
   },
   "outputs": [
    {
     "name": "stdout",
     "output_type": "stream",
     "text": [
      "<class 'geopandas.geodataframe.GeoDataFrame'>\n",
      "Index: 592923 entries, 20 to 556954\n",
      "Data columns (total 57 columns):\n",
      " #   Column                         Non-Null Count   Dtype   \n",
      "---  ------                         --------------   -----   \n",
      " 0   Unnamed: 0_left                592923 non-null  int64   \n",
      " 1   ASSETID                        592923 non-null  object  \n",
      " 2   PERIOD                         592923 non-null  int64   \n",
      " 3   PRICE                          592923 non-null  float64 \n",
      " 4   UNITPRICE                      592923 non-null  float64 \n",
      " 5   CONSTRUCTEDAREA                592923 non-null  int64   \n",
      " 6   ROOMNUMBER                     592923 non-null  int64   \n",
      " 7   BATHNUMBER                     592923 non-null  int64   \n",
      " 8   HASTERRACE                     592923 non-null  int64   \n",
      " 9   HASLIFT                        592923 non-null  int64   \n",
      " 10  HASAIRCONDITIONING             592923 non-null  int64   \n",
      " 11  AMENITYID                      592923 non-null  int64   \n",
      " 12  HASPARKINGSPACE                592923 non-null  int64   \n",
      " 13  ISPARKINGSPACEINCLUDEDINPRICE  592923 non-null  int64   \n",
      " 14  PARKINGSPACEPRICE              592923 non-null  int64   \n",
      " 15  HASNORTHORIENTATION            592923 non-null  int64   \n",
      " 16  HASSOUTHORIENTATION            592923 non-null  int64   \n",
      " 17  HASEASTORIENTATION             592923 non-null  int64   \n",
      " 18  HASWESTORIENTATION             592923 non-null  int64   \n",
      " 19  HASBOXROOM                     592923 non-null  int64   \n",
      " 20  HASWARDROBE                    592923 non-null  int64   \n",
      " 21  HASSWIMMINGPOOL                592923 non-null  int64   \n",
      " 22  HASDOORMAN                     592923 non-null  int64   \n",
      " 23  HASGARDEN                      592923 non-null  int64   \n",
      " 24  ISDUPLEX                       592923 non-null  int64   \n",
      " 25  ISSTUDIO                       592923 non-null  int64   \n",
      " 26  ISINTOPFLOOR                   592923 non-null  int64   \n",
      " 27  FLOORCLEAN                     592923 non-null  float64 \n",
      " 28  BUILTTYPEID                    592923 non-null  float64 \n",
      " 29  FLATLOCATIONID                 592923 non-null  float64 \n",
      " 30  CADCONSTRUCTIONYEAR            592923 non-null  float64 \n",
      " 31  CADMAXBUILDINGFLOOR            592923 non-null  int64   \n",
      " 32  CADDWELLINGCOUNT               592923 non-null  int64   \n",
      " 33  CADASTRALQUALITYID             592923 non-null  float64 \n",
      " 34  LONGITUDE                      592923 non-null  float64 \n",
      " 35  LATITUDE                       592923 non-null  float64 \n",
      " 36  geometry                       592923 non-null  geometry\n",
      " 37  CODBAR                         592923 non-null  int64   \n",
      " 38  NOMBRE_x                       592923 non-null  object  \n",
      " 39  income_2019                    592923 non-null  float64 \n",
      " 40  %_spanish_2021                 592923 non-null  float64 \n",
      " 41  pop_2021                       592923 non-null  float64 \n",
      " 42  %_singlehouse_2021             592923 non-null  float64 \n",
      " 43  avg_house_size_2021            592923 non-null  float64 \n",
      " 44  %_u18_2021                     592923 non-null  float64 \n",
      " 45  %_over65_2021                  592923 non-null  float64 \n",
      " 46  Average_age_2021               592923 non-null  float64 \n",
      " 47  area_x                         592923 non-null  float64 \n",
      " 48  building_density               592923 non-null  float64 \n",
      " 49  bench_density                  592923 non-null  float64 \n",
      " 50  green_area_percent             592923 non-null  float64 \n",
      " 51  tree_density                   592923 non-null  float64 \n",
      " 52  code_dis                       592923 non-null  int64   \n",
      " 53  name_dis                       592923 non-null  object  \n",
      " 54  index_right                    592923 non-null  int64   \n",
      " 55  Unnamed: 0_right               592923 non-null  int64   \n",
      " 56  2000_18                        592923 non-null  int64   \n",
      "dtypes: float64(22), geometry(1), int64(31), object(3)\n",
      "memory usage: 262.4+ MB\n"
     ]
    }
   ],
   "source": [
    "points_with_polygons3.info()"
   ]
  },
  {
   "cell_type": "markdown",
   "id": "5b7cb450-730d-482c-b1b1-650864a96b77",
   "metadata": {},
   "source": [
    "### Remove outliers in the unit price"
   ]
  },
  {
   "cell_type": "markdown",
   "id": "a9e77394-dcbe-4a52-9805-b0621cb822f1",
   "metadata": {},
   "source": [
    "For the hedonic model it is necassary to reduce the skew of the data, housing prices are skewed to the right with a few expensive outliers. The next section removes outliers based on the upper bound of the interquartile range. We remove 14,729 listings which are over €7,091 per square meter."
   ]
  },
  {
   "cell_type": "code",
   "execution_count": 81,
   "id": "81e825d6-9530-4c06-90b9-b0a9748562e7",
   "metadata": {
    "scrolled": true
   },
   "outputs": [
    {
     "data": {
      "text/plain": [
       "count    592923.000000\n",
       "mean       3208.424288\n",
       "std        5827.677425\n",
       "min           0.974937\n",
       "25%        1921.875000\n",
       "50%        2843.478000\n",
       "75%        3989.949749\n",
       "max     1528933.000000\n",
       "Name: UNITPRICE, dtype: float64"
      ]
     },
     "execution_count": 81,
     "metadata": {},
     "output_type": "execute_result"
    }
   ],
   "source": [
    "# Set pandas to display floats in a standard decimal format\n",
    "pd.set_option('display.float_format', '{:.6f}'.format)\n",
    "\n",
    "# Get summary statistics for unit price\n",
    "points_with_polygons3.UNITPRICE.describe()"
   ]
  },
  {
   "cell_type": "code",
   "execution_count": 82,
   "id": "a6659c33-3495-49ba-966b-a3fa83efcfa4",
   "metadata": {},
   "outputs": [],
   "source": [
    "# Calculate the interquartile range\n",
    "Q1 = 1921\n",
    "Q3 = 3989\n",
    "IQR = Q3 - Q1\n",
    "\n",
    "# Calculate bounds\n",
    "lower_bound = Q1 - 1.5 * IQR\n",
    "upper_bound = Q3 + 1.5 * IQR\n",
    "\n",
    "# Remove rows where UNITPRICE exceeds the upper bound\n",
    "gdf_hp = points_with_polygons3[points_with_polygons3['UNITPRICE'] <= upper_bound]\n"
   ]
  },
  {
   "cell_type": "code",
   "execution_count": 83,
   "id": "02e03a69-bda5-4f59-bba9-736ca42ae441",
   "metadata": {},
   "outputs": [
    {
     "data": {
      "text/plain": [
       "7091.0"
      ]
     },
     "execution_count": 83,
     "metadata": {},
     "output_type": "execute_result"
    }
   ],
   "source": [
    "upper_bound"
   ]
  },
  {
   "cell_type": "code",
   "execution_count": 49,
   "id": "3b3ff8d7-cd09-425b-b2a9-49bbf135b70a",
   "metadata": {},
   "outputs": [
    {
     "data": {
      "text/plain": [
       "count   578204.000000\n",
       "mean      2990.562349\n",
       "std       1379.867732\n",
       "min          0.974937\n",
       "25%       1900.000000\n",
       "50%       2795.698925\n",
       "75%       3888.889000\n",
       "max       7090.909091\n",
       "Name: UNITPRICE, dtype: float64"
      ]
     },
     "execution_count": 49,
     "metadata": {},
     "output_type": "execute_result"
    }
   ],
   "source": [
    "gdf_hp.UNITPRICE.describe()"
   ]
  },
  {
   "cell_type": "code",
   "execution_count": 91,
   "id": "559897a4-35f6-467b-a0ca-b74cdfd87486",
   "metadata": {},
   "outputs": [
    {
     "data": {
      "image/png": "[encoded data removed]",
      "text/plain": [
       "<Figure size 1000x600 with 1 Axes>"
      ]
     },
     "metadata": {},
     "output_type": "display_data"
    }
   ],
   "source": [
    "# Visualization of the distribution of UNITPRICE\n",
    "plt.figure(figsize=(10,6))\n",
    "sns.kdeplot(gdf_hp['UNITPRICE'], fill=True, color=\"blue\", alpha=0.5)\n",
    "plt.title(\"Density Plot of UNITPRICE\")\n",
    "plt.xlabel(\"UNITPRICE\")\n",
    "plt.ylabel(\"Density\")\n",
    "plt.show()\n"
   ]
  },
  {
   "cell_type": "markdown",
   "id": "68f57932-0037-403b-bf16-98c5217ffcae",
   "metadata": {},
   "source": [
    "### Check for any more outliers"
   ]
  },
  {
   "cell_type": "markdown",
   "id": "3c8b3d26-356f-4643-879b-8e2a629ff95e",
   "metadata": {},
   "source": [
    "Then we examine the other variables to check for any outliers. The variable ROOMNUMBER, which represents the number of bedrooms is heavily skewed to the right. We remove 114 listings with over 15 bedrooms as these represent entire buildings for sale and for the analysis we need properties at the individual level."
   ]
  },
  {
   "cell_type": "code",
   "execution_count": 54,
   "id": "6e704218-ef48-4f77-8064-542d8427b2e2",
   "metadata": {},
   "outputs": [
    {
     "data": {
      "text/html": [
       "<div>\n",
       "<style scoped>\n",
       "    .dataframe tbody tr th:only-of-type {\n",
       "        vertical-align: middle;\n",
       "    }\n",
       "\n",
       "    .dataframe tbody tr th {\n",
       "        vertical-align: top;\n",
       "    }\n",
       "\n",
       "    .dataframe thead th {\n",
       "        text-align: right;\n",
       "    }\n",
       "</style>\n",
       "<table border=\"1\" class=\"dataframe\">\n",
       "  <thead>\n",
       "    <tr style=\"text-align: right;\">\n",
       "      <th></th>\n",
       "      <th>Unnamed: 0</th>\n",
       "      <th>PERIOD</th>\n",
       "      <th>PRICE</th>\n",
       "      <th>UNITPRICE</th>\n",
       "      <th>CONSTRUCTEDAREA</th>\n",
       "      <th>ROOMNUMBER</th>\n",
       "      <th>BATHNUMBER</th>\n",
       "      <th>HASTERRACE</th>\n",
       "      <th>HASLIFT</th>\n",
       "      <th>HASAIRCONDITIONING</th>\n",
       "      <th>...</th>\n",
       "      <th>%_u18_2021</th>\n",
       "      <th>%_over65_2021</th>\n",
       "      <th>Average_age_2021</th>\n",
       "      <th>area_x</th>\n",
       "      <th>building_density</th>\n",
       "      <th>bench_density</th>\n",
       "      <th>index_right</th>\n",
       "      <th>green_area_percent</th>\n",
       "      <th>tree_density</th>\n",
       "      <th>code_dis</th>\n",
       "    </tr>\n",
       "  </thead>\n",
       "  <tbody>\n",
       "    <tr>\n",
       "      <th>count</th>\n",
       "      <td>578204.000000</td>\n",
       "      <td>578204.000000</td>\n",
       "      <td>578204.000000</td>\n",
       "      <td>578204.000000</td>\n",
       "      <td>578204.000000</td>\n",
       "      <td>578204.000000</td>\n",
       "      <td>578204.000000</td>\n",
       "      <td>578204.000000</td>\n",
       "      <td>578204.000000</td>\n",
       "      <td>578204.000000</td>\n",
       "      <td>...</td>\n",
       "      <td>578204.000000</td>\n",
       "      <td>578204.000000</td>\n",
       "      <td>578204.000000</td>\n",
       "      <td>578204.000000</td>\n",
       "      <td>578204.000000</td>\n",
       "      <td>578204.000000</td>\n",
       "      <td>578204.000000</td>\n",
       "      <td>578204.000000</td>\n",
       "      <td>578204.000000</td>\n",
       "      <td>578204.000000</td>\n",
       "    </tr>\n",
       "    <tr>\n",
       "      <th>mean</th>\n",
       "      <td>57465.474860</td>\n",
       "      <td>201561.337452</td>\n",
       "      <td>329955.076409</td>\n",
       "      <td>2990.562349</td>\n",
       "      <td>106.293454</td>\n",
       "      <td>2.655258</td>\n",
       "      <td>1.583457</td>\n",
       "      <td>0.323848</td>\n",
       "      <td>0.695531</td>\n",
       "      <td>0.365352</td>\n",
       "      <td>...</td>\n",
       "      <td>14.358716</td>\n",
       "      <td>20.792316</td>\n",
       "      <td>44.338151</td>\n",
       "      <td>3060852.290317</td>\n",
       "      <td>0.000794</td>\n",
       "      <td>0.000348</td>\n",
       "      <td>8.298822</td>\n",
       "      <td>9.634004</td>\n",
       "      <td>0.002503</td>\n",
       "      <td>9.298822</td>\n",
       "    </tr>\n",
       "    <tr>\n",
       "      <th>std</th>\n",
       "      <td>35283.683450</td>\n",
       "      <td>247.899800</td>\n",
       "      <td>365718.309069</td>\n",
       "      <td>1379.867732</td>\n",
       "      <td>888.041835</td>\n",
       "      <td>1.260689</td>\n",
       "      <td>0.883334</td>\n",
       "      <td>0.467943</td>\n",
       "      <td>0.460182</td>\n",
       "      <td>0.481529</td>\n",
       "      <td>...</td>\n",
       "      <td>4.068305</td>\n",
       "      <td>5.432514</td>\n",
       "      <td>3.002387</td>\n",
       "      <td>6819776.886096</td>\n",
       "      <td>0.000529</td>\n",
       "      <td>0.000163</td>\n",
       "      <td>5.695278</td>\n",
       "      <td>5.317018</td>\n",
       "      <td>0.001000</td>\n",
       "      <td>5.695278</td>\n",
       "    </tr>\n",
       "    <tr>\n",
       "      <th>min</th>\n",
       "      <td>0.000000</td>\n",
       "      <td>201003.000000</td>\n",
       "      <td>1000.000000</td>\n",
       "      <td>0.974937</td>\n",
       "      <td>1.000000</td>\n",
       "      <td>0.000000</td>\n",
       "      <td>0.000000</td>\n",
       "      <td>0.000000</td>\n",
       "      <td>0.000000</td>\n",
       "      <td>0.000000</td>\n",
       "      <td>...</td>\n",
       "      <td>6.871429</td>\n",
       "      <td>2.300000</td>\n",
       "      <td>31.900000</td>\n",
       "      <td>249064.270000</td>\n",
       "      <td>0.000002</td>\n",
       "      <td>0.000002</td>\n",
       "      <td>0.000000</td>\n",
       "      <td>1.548261</td>\n",
       "      <td>0.000244</td>\n",
       "      <td>1.000000</td>\n",
       "    </tr>\n",
       "    <tr>\n",
       "      <th>25%</th>\n",
       "      <td>29644.000000</td>\n",
       "      <td>201312.000000</td>\n",
       "      <td>134000.000000</td>\n",
       "      <td>1900.000000</td>\n",
       "      <td>64.000000</td>\n",
       "      <td>2.000000</td>\n",
       "      <td>1.000000</td>\n",
       "      <td>0.000000</td>\n",
       "      <td>0.000000</td>\n",
       "      <td>0.000000</td>\n",
       "      <td>...</td>\n",
       "      <td>12.227778</td>\n",
       "      <td>17.100000</td>\n",
       "      <td>42.900000</td>\n",
       "      <td>853192.220000</td>\n",
       "      <td>0.000392</td>\n",
       "      <td>0.000243</td>\n",
       "      <td>3.000000</td>\n",
       "      <td>6.020553</td>\n",
       "      <td>0.002066</td>\n",
       "      <td>4.000000</td>\n",
       "    </tr>\n",
       "    <tr>\n",
       "      <th>50%</th>\n",
       "      <td>54812.000000</td>\n",
       "      <td>201606.000000</td>\n",
       "      <td>223000.000000</td>\n",
       "      <td>2795.698925</td>\n",
       "      <td>84.000000</td>\n",
       "      <td>3.000000</td>\n",
       "      <td>1.000000</td>\n",
       "      <td>0.000000</td>\n",
       "      <td>1.000000</td>\n",
       "      <td>0.000000</td>\n",
       "      <td>...</td>\n",
       "      <td>13.400000</td>\n",
       "      <td>21.960000</td>\n",
       "      <td>45.033333</td>\n",
       "      <td>1306150.890000</td>\n",
       "      <td>0.000753</td>\n",
       "      <td>0.000346</td>\n",
       "      <td>8.000000</td>\n",
       "      <td>7.851998</td>\n",
       "      <td>0.002730</td>\n",
       "      <td>9.000000</td>\n",
       "    </tr>\n",
       "    <tr>\n",
       "      <th>75%</th>\n",
       "      <td>80736.000000</td>\n",
       "      <td>201806.000000</td>\n",
       "      <td>391000.000000</td>\n",
       "      <td>3888.889000</td>\n",
       "      <td>117.000000</td>\n",
       "      <td>3.000000</td>\n",
       "      <td>2.000000</td>\n",
       "      <td>1.000000</td>\n",
       "      <td>1.000000</td>\n",
       "      <td>1.000000</td>\n",
       "      <td>...</td>\n",
       "      <td>15.884615</td>\n",
       "      <td>24.450000</td>\n",
       "      <td>46.402941</td>\n",
       "      <td>2278006.820000</td>\n",
       "      <td>0.000987</td>\n",
       "      <td>0.000451</td>\n",
       "      <td>13.000000</td>\n",
       "      <td>11.851522</td>\n",
       "      <td>0.002991</td>\n",
       "      <td>14.000000</td>\n",
       "    </tr>\n",
       "    <tr>\n",
       "      <th>max</th>\n",
       "      <td>158439.000000</td>\n",
       "      <td>201912.000000</td>\n",
       "      <td>50459000.000000</td>\n",
       "      <td>7090.909091</td>\n",
       "      <td>399000.000000</td>\n",
       "      <td>150.000000</td>\n",
       "      <td>99.000000</td>\n",
       "      <td>1.000000</td>\n",
       "      <td>1.000000</td>\n",
       "      <td>1.000000</td>\n",
       "      <td>...</td>\n",
       "      <td>32.537500</td>\n",
       "      <td>35.642308</td>\n",
       "      <td>50.011538</td>\n",
       "      <td>187713864.500000</td>\n",
       "      <td>0.002531</td>\n",
       "      <td>0.000906</td>\n",
       "      <td>20.000000</td>\n",
       "      <td>21.580299</td>\n",
       "      <td>0.003990</td>\n",
       "      <td>21.000000</td>\n",
       "    </tr>\n",
       "  </tbody>\n",
       "</table>\n",
       "<p>8 rows × 51 columns</p>\n",
       "</div>"
      ],
      "text/plain": [
       "         Unnamed: 0        PERIOD           PRICE     UNITPRICE  \\\n",
       "count 578204.000000 578204.000000   578204.000000 578204.000000   \n",
       "mean   57465.474860 201561.337452   329955.076409   2990.562349   \n",
       "std    35283.683450    247.899800   365718.309069   1379.867732   \n",
       "min        0.000000 201003.000000     1000.000000      0.974937   \n",
       "25%    29644.000000 201312.000000   134000.000000   1900.000000   \n",
       "50%    54812.000000 201606.000000   223000.000000   2795.698925   \n",
       "75%    80736.000000 201806.000000   391000.000000   3888.889000   \n",
       "max   158439.000000 201912.000000 50459000.000000   7090.909091   \n",
       "\n",
       "       CONSTRUCTEDAREA    ROOMNUMBER    BATHNUMBER    HASTERRACE  \\\n",
       "count    578204.000000 578204.000000 578204.000000 578204.000000   \n",
       "mean        106.293454      2.655258      1.583457      0.323848   \n",
       "std         888.041835      1.260689      0.883334      0.467943   \n",
       "min           1.000000      0.000000      0.000000      0.000000   \n",
       "25%          64.000000      2.000000      1.000000      0.000000   \n",
       "50%          84.000000      3.000000      1.000000      0.000000   \n",
       "75%         117.000000      3.000000      2.000000      1.000000   \n",
       "max      399000.000000    150.000000     99.000000      1.000000   \n",
       "\n",
       "            HASLIFT  HASAIRCONDITIONING  ...    %_u18_2021  %_over65_2021  \\\n",
       "count 578204.000000       578204.000000  ... 578204.000000  578204.000000   \n",
       "mean       0.695531            0.365352  ...     14.358716      20.792316   \n",
       "std        0.460182            0.481529  ...      4.068305       5.432514   \n",
       "min        0.000000            0.000000  ...      6.871429       2.300000   \n",
       "25%        0.000000            0.000000  ...     12.227778      17.100000   \n",
       "50%        1.000000            0.000000  ...     13.400000      21.960000   \n",
       "75%        1.000000            1.000000  ...     15.884615      24.450000   \n",
       "max        1.000000            1.000000  ...     32.537500      35.642308   \n",
       "\n",
       "       Average_age_2021           area_x  building_density  bench_density  \\\n",
       "count     578204.000000    578204.000000     578204.000000  578204.000000   \n",
       "mean          44.338151   3060852.290317          0.000794       0.000348   \n",
       "std            3.002387   6819776.886096          0.000529       0.000163   \n",
       "min           31.900000    249064.270000          0.000002       0.000002   \n",
       "25%           42.900000    853192.220000          0.000392       0.000243   \n",
       "50%           45.033333   1306150.890000          0.000753       0.000346   \n",
       "75%           46.402941   2278006.820000          0.000987       0.000451   \n",
       "max           50.011538 187713864.500000          0.002531       0.000906   \n",
       "\n",
       "        index_right  green_area_percent  tree_density      code_dis  \n",
       "count 578204.000000       578204.000000 578204.000000 578204.000000  \n",
       "mean       8.298822            9.634004      0.002503      9.298822  \n",
       "std        5.695278            5.317018      0.001000      5.695278  \n",
       "min        0.000000            1.548261      0.000244      1.000000  \n",
       "25%        3.000000            6.020553      0.002066      4.000000  \n",
       "50%        8.000000            7.851998      0.002730      9.000000  \n",
       "75%       13.000000           11.851522      0.002991     14.000000  \n",
       "max       20.000000           21.580299      0.003990     21.000000  \n",
       "\n",
       "[8 rows x 51 columns]"
      ]
     },
     "execution_count": 54,
     "metadata": {},
     "output_type": "execute_result"
    }
   ],
   "source": [
    "# Get summary statistics for all variables\n",
    "gdf_hp.describe()"
   ]
  },
  {
   "cell_type": "code",
   "execution_count": 84,
   "id": "4222a4a4-1a05-48dc-b677-3b591f92044f",
   "metadata": {},
   "outputs": [],
   "source": [
    "# Drop rows where ROOMNUMBER is greater than 15\n",
    "gdf_hp2 = gdf_hp[gdf_hp['ROOMNUMBER'] <= 15]"
   ]
  },
  {
   "cell_type": "code",
   "execution_count": 62,
   "id": "d919227b-3c8b-48e7-87ed-d56e9bc19e56",
   "metadata": {},
   "outputs": [
    {
     "data": {
      "image/png": "[encoded data removed]",
      "text/plain": [
       "<Figure size 1000x600 with 1 Axes>"
      ]
     },
     "metadata": {},
     "output_type": "display_data"
    }
   ],
   "source": [
    "plt.figure(figsize=(10,6))\n",
    "sns.kdeplot(gdf_hp2['ROOMNUMBER'], fill=True, color=\"blue\", alpha=0.5)\n",
    "plt.title(\"Density Plot of Room Number\")\n",
    "plt.xlabel(\"ROOM NUMBER\")\n",
    "plt.ylabel(\"Density\")\n",
    "plt.show()"
   ]
  },
  {
   "cell_type": "markdown",
   "id": "31e32ed5-aa02-4226-8c77-36702f85f435",
   "metadata": {},
   "source": [
    "### Calculate new variables \n",
    "Finally we create new variables needed for the analysis, including population density, cooling demand category and the log of unit price. "
   ]
  },
  {
   "cell_type": "code",
   "execution_count": 85,
   "id": "334809ba-4d39-4d9a-bc00-65071c305ade",
   "metadata": {},
   "outputs": [
    {
     "name": "stderr",
     "output_type": "stream",
     "text": [
      "/opt/conda/envs/gds/lib/python3.9/site-packages/geopandas/geodataframe.py:1543: SettingWithCopyWarning: \n",
      "A value is trying to be set on a copy of a slice from a DataFrame.\n",
      "Try using .loc[row_indexer,col_indexer] = value instead\n",
      "\n",
      "See the caveats in the documentation: https://pandas.pydata.org/pandas-docs/stable/user_guide/indexing.html#returning-a-view-versus-a-copy\n",
      "  super().__setitem__(key, value)\n"
     ]
    }
   ],
   "source": [
    "# Calculate Population Density using the population count and size of the neighbourhoods\n",
    "gdf_hp2['pop_den'] = gdf_hp2['pop_2021'] / gdf_hp2['area_x']\n"
   ]
  },
  {
   "cell_type": "code",
   "execution_count": 86,
   "id": "1caa4b66-30d1-42d0-82b3-ca60e9613d84",
   "metadata": {},
   "outputs": [
    {
     "name": "stderr",
     "output_type": "stream",
     "text": [
      "/opt/conda/envs/gds/lib/python3.9/site-packages/geopandas/geodataframe.py:1543: SettingWithCopyWarning: \n",
      "A value is trying to be set on a copy of a slice from a DataFrame.\n",
      "Try using .loc[row_indexer,col_indexer] = value instead\n",
      "\n",
      "See the caveats in the documentation: https://pandas.pydata.org/pandas-docs/stable/user_guide/indexing.html#returning-a-view-versus-a-copy\n",
      "  super().__setitem__(key, value)\n"
     ]
    }
   ],
   "source": [
    "# Concert the year of construction to cooling demand category \n",
    "# Define the bins and numeric labels \n",
    "bins = [0, 1940, 1980, 2006, float('inf')]  # Define the year ranges\n",
    "labels = [1, 3, 2, 1]                      # 1: Lowest, 3: Highest, 2: Moderate\n",
    "\n",
    "# Create a new column with the classification\n",
    "gdf_hp2['CoolingDemandCategory'] = pd.cut(gdf_hp2['CADCONSTRUCTIONYEAR'], bins=bins, labels=labels, right=False, ordered=False)\n",
    "\n"
   ]
  },
  {
   "cell_type": "code",
   "execution_count": 87,
   "id": "144b345b-62a3-49f2-8d62-6967586c54c5",
   "metadata": {},
   "outputs": [
    {
     "name": "stderr",
     "output_type": "stream",
     "text": [
      "/opt/conda/envs/gds/lib/python3.9/site-packages/geopandas/geodataframe.py:1543: SettingWithCopyWarning: \n",
      "A value is trying to be set on a copy of a slice from a DataFrame.\n",
      "Try using .loc[row_indexer,col_indexer] = value instead\n",
      "\n",
      "See the caveats in the documentation: https://pandas.pydata.org/pandas-docs/stable/user_guide/indexing.html#returning-a-view-versus-a-copy\n",
      "  super().__setitem__(key, value)\n"
     ]
    }
   ],
   "source": [
    "# Log-transform the outcome varible column\n",
    "gdf_hp2['Log_UNITPRICE'] = np.log(gdf_hp2['UNITPRICE'])"
   ]
  },
  {
   "cell_type": "code",
   "execution_count": null,
   "id": "f542a982-8443-42d0-b6a9-dc65b6e72d4d",
   "metadata": {},
   "outputs": [],
   "source": [
    "# Log-transform the outcome varible column\n",
    "gdf_hp2['Log_UNITPRICE'] = np.log(gdf_hp2['UNITPRICE'])"
   ]
  },
  {
   "cell_type": "code",
   "execution_count": 88,
   "id": "86fe7fae-34df-46fb-bd8a-af19ebdb988d",
   "metadata": {},
   "outputs": [],
   "source": [
    "# Save DataFrame as CSV\n",
    "gdf_hp2.to_csv('cleaned_data_hp_aircon.csv', index=False)"
   ]
  }
 ],
 "metadata": {
  "kernelspec": {
   "display_name": "GDS-10.0",
   "language": "python",
   "name": "gds"
  },
  "language_info": {
   "codemirror_mode": {
    "name": "ipython",
    "version": 3
   },
   "file_extension": ".py",
   "mimetype": "text/x-python",
   "name": "python",
   "nbconvert_exporter": "python",
   "pygments_lexer": "ipython3",
   "version": "3.9.18"
  }
 },
 "nbformat": 4,
 "nbformat_minor": 5
}
